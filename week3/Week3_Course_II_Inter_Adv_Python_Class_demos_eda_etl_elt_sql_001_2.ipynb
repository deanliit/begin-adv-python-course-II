{
  "nbformat": 4,
  "nbformat_minor": 0,
  "metadata": {
    "colab": {
      "provenance": []
    },
    "kernelspec": {
      "name": "python3",
      "display_name": "Python 3"
    },
    "language_info": {
      "name": "python"
    }
  },
  "cells": [
    {
      "cell_type": "markdown",
      "source": [
        "#Weekly class demos and Exercises summary  \n",
        "- 10 weeks course (2.5h class/demos/labs) / 30 min practice\n",
        "\n",
        "#Weekly Topics\n",
        " - EDA, ETL, ELT, SQL\n",
        "\n",
        "#Weekly Homework , Class Assignment, Class Project\n",
        "- Reading/review\n",
        "  - w3schools reference\n",
        "  - https://www.w3schools.com/python/\n",
        "  - pdf ebook ref\n",
        "\n",
        "- exercises , course book pages\n",
        "- pages:\n",
        "   -\n",
        "\n",
        "#github course demos and examples\n",
        "\n",
        "- https://github.com/deanliit/begin-adv-python-course-I\n",
        "\n",
        "- https://github.com/deanliit/begin-adv-python-course-II\n",
        "\n",
        "## Python references\n",
        "https://www.w3schools.com/python/python_intro.asp\n",
        "- Course book\n",
        "\n",
        "### Class Quiz - Email link to google forms\n",
        "\n",
        "<pre>\n",
        "\n",
        "- 3 quizzes - similar to python entry level quiz\n",
        "- multiple choice\n",
        "- 5 multiple choice quesitons = 70%\n",
        "- 1 code fill-in question\n",
        "-- write code is vs.code - copy code in quiz\n",
        "-- small example program -- %30\n",
        "example: write a progarm to compute 2 values\n",
        "optional/extra: create a startup program\n",
        "input: prompt for each input\n",
        "output: display items and total\n",
        "hint:\n",
        "\n",
        "name = input(\"name\")\n",
        "email = input(\"email\")\n",
        "print(f\"{name} {email}\")\n",
        "#print(name, email)\n",
        "\n",
        "or\n",
        "\n",
        "def main():\n",
        "  name = input(\"name\")\n",
        "  email = input(\"email\")\n",
        "  print(f\"{name} {email}\")\n",
        "  #print(name, email)\n",
        "\n",
        "if __name__ == \"__main__\":\n",
        "  main()\n",
        "  \n",
        "- take home\n",
        "- approx. 1 week to complete\n",
        "- submit answers with quiz\n",
        "- quiz is similar question to python Entry Level Exam and some question from Associate Exam\n",
        "- no questions on Data Science, SQL, HTML, ETL\n",
        "- review quiz in class\n",
        "\n",
        "</pre>"
      ],
      "metadata": {
        "id": "WTQyaSpLjFfU"
      }
    },
    {
      "cell_type": "code",
      "source": [
        "#python EDA, ETL, ELT, SQL\n",
        "\n",
        "#Exploritory Data Analysis\n",
        "#Extract Transform Load\n",
        "#Extract Load Transform\n",
        "\n",
        "#\n",
        "\n",
        "\"\"\"\n",
        "https://www.programiz.com/python-programming/pandas/introduction\n",
        "\n",
        "> start by learning about the data / dataset\n",
        "\n",
        "different type of dataset\n",
        "\n",
        "- in-memory array , list\n",
        "- csv file, excel, text , xml\n",
        "- sql table\n",
        "- html page - ie: screen scraping\n",
        "- big data -\n",
        "  - data warehouse - schema sql table data , readonly non real-time data update\n",
        "  - data lake - raw data on drives\n",
        "  - cloud data storage\n",
        "  - hadoop data strage\n",
        "\n",
        "- different shape = ie: data table\n",
        "- vector or array\n",
        "- series - row/column\n",
        "\n",
        "Tools to acces data\n",
        "- ETL tools\n",
        "- SQL Database\n",
        "- Python Pandas\n",
        "\n",
        "#Data Analysis process - EDA, ETL\n",
        "= standandard to create, update, delete, select data\n",
        "- python pandas, numpy\n",
        "- sql\n",
        "\n",
        "> EDA - Exploritory data analysis\n",
        "  - learning about data\n",
        "  - data cleaning, creating new data sets,\n",
        "  - CRUD, create, update and delete data\n",
        "  - create graphs\n",
        "\n",
        "> ETL - Extract Tranform Load\n",
        "  - batch process to extract, transoft/convert, load\n",
        "\n",
        "> Business Intellegence\n",
        " - use graphs and dashboards for data analysis\n",
        "\n",
        "> Make predictions about some data\n",
        " - Machine Learning\n",
        "\n",
        "ETL, ETL\n",
        "---------------\n",
        "Source data - original or raw data\n",
        "Transformation - converting data to new format ie: adding, removing columns, create sql, filter etc..\n",
        "Destination Data - new output data\n",
        "\n",
        "\"\"\""
      ],
      "metadata": {
        "id": "xO-7rviiIK6C"
      },
      "execution_count": null,
      "outputs": []
    },
    {
      "cell_type": "code",
      "source": [
        "#https://www.programiz.com/python-programming/pandas/introduction\n",
        "\n",
        "# EDA similar in R\n",
        "\n",
        "# Data Source\n",
        "\n",
        "\"\"\"\n",
        "\n",
        "Array/List/Set/Map/Tuple\n",
        "------------------------\n",
        "R = Vector = Array\n",
        "list/array = [1,2,3,4]\n",
        "\n",
        "list/array[1]\n",
        "\n",
        "Series - 1 dimensional array with a index row\n",
        "-----------------------\n",
        "  similar to array except , series always has unique row\n",
        "  index column can be any valid data but must be unique\n",
        "  use index row to filter or lookup item in series\n",
        "\n",
        "  exmple 1:\n",
        "    0 - data ie: string/int/float\n",
        "    1 - data ie: string/int/float\n",
        "\n",
        "  exmple 2:\n",
        "    a - data ie: string/int/float\n",
        "    b - data ie: string/int/float\n",
        "\n",
        "  exmple 2:\n",
        "    item1 - data ie: string/int/float\n",
        "    item2 - data ie: string/int/float\n",
        "\n",
        "DataFrame - in-memory row/columns ie: table in database\n",
        "\n",
        "** insert, import , or create data - data collection, serices, dataframe or sql table\n",
        "** perform data EDA, ETL\n",
        "\n",
        "\"\"\"\n",
        "\n"
      ],
      "metadata": {
        "id": "efzxVhQHNjKD"
      },
      "execution_count": null,
      "outputs": []
    },
    {
      "cell_type": "code",
      "source": [
        "#eda-demo-1.py\n",
        "#https://www.programiz.com/python-programming/pandas/introduction\n",
        "\n",
        "import pandas as pd\n",
        "\n",
        "def main():\n",
        "    # create a list\n",
        "    data = [10, 20, 30, 40, 50]\n",
        "\n",
        "    # create a series from the list\n",
        "    my_series = pd.Series(data)\n",
        "\n",
        "    print(my_series)\n",
        "\n",
        "if __name__ == \"__main__\":\n",
        "    main()\n"
      ],
      "metadata": {
        "colab": {
          "base_uri": "https://localhost:8080/"
        },
        "id": "6dkDB_d2RYGt",
        "outputId": "b80dfd0b-ed25-43e9-c029-9de7d975ab2d"
      },
      "execution_count": 1,
      "outputs": [
        {
          "output_type": "stream",
          "name": "stdout",
          "text": [
            "0    10\n",
            "1    20\n",
            "2    30\n",
            "3    40\n",
            "4    50\n",
            "dtype: int64\n"
          ]
        }
      ]
    },
    {
      "cell_type": "code",
      "source": [
        "#eda-demo-2.py\n",
        "#https://www.programiz.com/python-programming/pandas/introduction\n",
        "\n",
        "import pandas as pd\n",
        "\n",
        "def series1():\n",
        "  # create a list\n",
        "  a = [1, 3, 5]\n",
        "\n",
        "  # create a series and specify labels\n",
        "  my_series = pd.Series(a, index = [\"x\", \"y\", \"z\"])\n",
        "\n",
        "  print(my_series)\n",
        "\n",
        "  # display the value with label y\n",
        "  print(my_series[\"y\"])\n",
        "\n",
        "def series2()\n",
        "  pass\n",
        "\n",
        "def main()\n",
        "  series1()\n",
        "  series2()\n",
        "\n",
        "if __name__ == \"__main__\":\n",
        "    main()\n",
        "\n"
      ],
      "metadata": {
        "colab": {
          "base_uri": "https://localhost:8080/"
        },
        "id": "ZIxPCrKYUWFv",
        "outputId": "30e8d8bd-21a0-4817-964e-26fb1d43d5b6"
      },
      "execution_count": 4,
      "outputs": [
        {
          "output_type": "stream",
          "name": "stdout",
          "text": [
            "x    1\n",
            "y    3\n",
            "z    5\n",
            "dtype: int64\n",
            "3\n"
          ]
        }
      ]
    },
    {
      "cell_type": "code",
      "source": [
        "#EDA - class demo #3\n",
        "#https://www.programiz.com/python-programming/pandas/introduction\n",
        "\n",
        "import pandas as pd\n",
        "\n",
        "# create a dictionary\n",
        "grades = {\"Semester1\": 3.25, \"Semester2\": 3.28, \"Semester3\": 3.75}\n",
        "\n",
        "# create a series from the dictionary\n",
        "my_series = pd.Series(grades)\n",
        "\n",
        "# display the series\n",
        "print(my_series)\n"
      ],
      "metadata": {
        "colab": {
          "base_uri": "https://localhost:8080/"
        },
        "id": "ZA9pU3AlWFem",
        "outputId": "77741c6a-2d30-4727-edf6-62073678d613"
      },
      "execution_count": 5,
      "outputs": [
        {
          "output_type": "stream",
          "name": "stdout",
          "text": [
            "Semester1    3.25\n",
            "Semester2    3.28\n",
            "Semester3    3.75\n",
            "dtype: float64\n"
          ]
        }
      ]
    },
    {
      "cell_type": "code",
      "source": [
        "#EDA - class lab #4\n",
        "#https://www.programiz.com/python-programming/pandas/dataframe\n",
        "\n",
        "import pandas as pd\n",
        "\n",
        "# create a dictionary\n",
        "data = {'Name': ['John', 'Alice', 'Bob'],\n",
        "       'Age': [25, 30, 35],\n",
        "       'City': ['New York', 'London', 'Paris']}\n",
        "\n",
        "# create a dataframe from the dictionary\n",
        "df = pd.DataFrame(data)\n",
        "\n",
        "print(df)\n"
      ],
      "metadata": {
        "colab": {
          "base_uri": "https://localhost:8080/"
        },
        "id": "LDY8E-2uXqA5",
        "outputId": "39f0771c-b255-4936-8a45-e8ad72ab2d6d"
      },
      "execution_count": 6,
      "outputs": [
        {
          "output_type": "stream",
          "name": "stdout",
          "text": [
            "    Name  Age      City\n",
            "0   John   25  New York\n",
            "1  Alice   30    London\n",
            "2    Bob   35     Paris\n"
          ]
        }
      ]
    },
    {
      "cell_type": "code",
      "source": [
        "#EDA - class lab #5\n",
        "#https://www.programiz.com/python-programming/pandas/dataframe\n",
        "\n",
        "import pandas as pd\n",
        "\n",
        "#create functions\n",
        "\n",
        "# create a two-dimensional list\n",
        "data = [['John', 25, 'New York'],\n",
        "       ['Alice', 30, 'London'],\n",
        "       ['Bob', 35, 'Paris']]\n",
        "\n",
        "# create a DataFrame from the list\n",
        "df = pd.DataFrame(data, columns=['Name', 'Age', 'City'])\n",
        "\n",
        "print(df)\n",
        "\n",
        "#statup method\n",
        "\n"
      ],
      "metadata": {
        "id": "2YaDGU-Hequ9"
      },
      "execution_count": null,
      "outputs": []
    },
    {
      "cell_type": "code",
      "source": [
        "#upload data to google colabs\n",
        "from google.colab import files\n",
        "files.upload()\n"
      ],
      "metadata": {
        "colab": {
          "base_uri": "https://localhost:8080/",
          "height": 90
        },
        "id": "MURJ3_3Zf1E7",
        "outputId": "d1951062-a4d3-419d-9d5a-45213fbcc8e6"
      },
      "execution_count": 7,
      "outputs": [
        {
          "output_type": "display_data",
          "data": {
            "text/plain": [
              "<IPython.core.display.HTML object>"
            ],
            "text/html": [
              "\n",
              "     <input type=\"file\" id=\"files-b84fcbd1-4bd6-4d7d-83a7-332626256632\" name=\"files[]\" multiple disabled\n",
              "        style=\"border:none\" />\n",
              "     <output id=\"result-b84fcbd1-4bd6-4d7d-83a7-332626256632\">\n",
              "      Upload widget is only available when the cell has been executed in the\n",
              "      current browser session. Please rerun this cell to enable.\n",
              "      </output>\n",
              "      <script>// Copyright 2017 Google LLC\n",
              "//\n",
              "// Licensed under the Apache License, Version 2.0 (the \"License\");\n",
              "// you may not use this file except in compliance with the License.\n",
              "// You may obtain a copy of the License at\n",
              "//\n",
              "//      http://www.apache.org/licenses/LICENSE-2.0\n",
              "//\n",
              "// Unless required by applicable law or agreed to in writing, software\n",
              "// distributed under the License is distributed on an \"AS IS\" BASIS,\n",
              "// WITHOUT WARRANTIES OR CONDITIONS OF ANY KIND, either express or implied.\n",
              "// See the License for the specific language governing permissions and\n",
              "// limitations under the License.\n",
              "\n",
              "/**\n",
              " * @fileoverview Helpers for google.colab Python module.\n",
              " */\n",
              "(function(scope) {\n",
              "function span(text, styleAttributes = {}) {\n",
              "  const element = document.createElement('span');\n",
              "  element.textContent = text;\n",
              "  for (const key of Object.keys(styleAttributes)) {\n",
              "    element.style[key] = styleAttributes[key];\n",
              "  }\n",
              "  return element;\n",
              "}\n",
              "\n",
              "// Max number of bytes which will be uploaded at a time.\n",
              "const MAX_PAYLOAD_SIZE = 100 * 1024;\n",
              "\n",
              "function _uploadFiles(inputId, outputId) {\n",
              "  const steps = uploadFilesStep(inputId, outputId);\n",
              "  const outputElement = document.getElementById(outputId);\n",
              "  // Cache steps on the outputElement to make it available for the next call\n",
              "  // to uploadFilesContinue from Python.\n",
              "  outputElement.steps = steps;\n",
              "\n",
              "  return _uploadFilesContinue(outputId);\n",
              "}\n",
              "\n",
              "// This is roughly an async generator (not supported in the browser yet),\n",
              "// where there are multiple asynchronous steps and the Python side is going\n",
              "// to poll for completion of each step.\n",
              "// This uses a Promise to block the python side on completion of each step,\n",
              "// then passes the result of the previous step as the input to the next step.\n",
              "function _uploadFilesContinue(outputId) {\n",
              "  const outputElement = document.getElementById(outputId);\n",
              "  const steps = outputElement.steps;\n",
              "\n",
              "  const next = steps.next(outputElement.lastPromiseValue);\n",
              "  return Promise.resolve(next.value.promise).then((value) => {\n",
              "    // Cache the last promise value to make it available to the next\n",
              "    // step of the generator.\n",
              "    outputElement.lastPromiseValue = value;\n",
              "    return next.value.response;\n",
              "  });\n",
              "}\n",
              "\n",
              "/**\n",
              " * Generator function which is called between each async step of the upload\n",
              " * process.\n",
              " * @param {string} inputId Element ID of the input file picker element.\n",
              " * @param {string} outputId Element ID of the output display.\n",
              " * @return {!Iterable<!Object>} Iterable of next steps.\n",
              " */\n",
              "function* uploadFilesStep(inputId, outputId) {\n",
              "  const inputElement = document.getElementById(inputId);\n",
              "  inputElement.disabled = false;\n",
              "\n",
              "  const outputElement = document.getElementById(outputId);\n",
              "  outputElement.innerHTML = '';\n",
              "\n",
              "  const pickedPromise = new Promise((resolve) => {\n",
              "    inputElement.addEventListener('change', (e) => {\n",
              "      resolve(e.target.files);\n",
              "    });\n",
              "  });\n",
              "\n",
              "  const cancel = document.createElement('button');\n",
              "  inputElement.parentElement.appendChild(cancel);\n",
              "  cancel.textContent = 'Cancel upload';\n",
              "  const cancelPromise = new Promise((resolve) => {\n",
              "    cancel.onclick = () => {\n",
              "      resolve(null);\n",
              "    };\n",
              "  });\n",
              "\n",
              "  // Wait for the user to pick the files.\n",
              "  const files = yield {\n",
              "    promise: Promise.race([pickedPromise, cancelPromise]),\n",
              "    response: {\n",
              "      action: 'starting',\n",
              "    }\n",
              "  };\n",
              "\n",
              "  cancel.remove();\n",
              "\n",
              "  // Disable the input element since further picks are not allowed.\n",
              "  inputElement.disabled = true;\n",
              "\n",
              "  if (!files) {\n",
              "    return {\n",
              "      response: {\n",
              "        action: 'complete',\n",
              "      }\n",
              "    };\n",
              "  }\n",
              "\n",
              "  for (const file of files) {\n",
              "    const li = document.createElement('li');\n",
              "    li.append(span(file.name, {fontWeight: 'bold'}));\n",
              "    li.append(span(\n",
              "        `(${file.type || 'n/a'}) - ${file.size} bytes, ` +\n",
              "        `last modified: ${\n",
              "            file.lastModifiedDate ? file.lastModifiedDate.toLocaleDateString() :\n",
              "                                    'n/a'} - `));\n",
              "    const percent = span('0% done');\n",
              "    li.appendChild(percent);\n",
              "\n",
              "    outputElement.appendChild(li);\n",
              "\n",
              "    const fileDataPromise = new Promise((resolve) => {\n",
              "      const reader = new FileReader();\n",
              "      reader.onload = (e) => {\n",
              "        resolve(e.target.result);\n",
              "      };\n",
              "      reader.readAsArrayBuffer(file);\n",
              "    });\n",
              "    // Wait for the data to be ready.\n",
              "    let fileData = yield {\n",
              "      promise: fileDataPromise,\n",
              "      response: {\n",
              "        action: 'continue',\n",
              "      }\n",
              "    };\n",
              "\n",
              "    // Use a chunked sending to avoid message size limits. See b/62115660.\n",
              "    let position = 0;\n",
              "    do {\n",
              "      const length = Math.min(fileData.byteLength - position, MAX_PAYLOAD_SIZE);\n",
              "      const chunk = new Uint8Array(fileData, position, length);\n",
              "      position += length;\n",
              "\n",
              "      const base64 = btoa(String.fromCharCode.apply(null, chunk));\n",
              "      yield {\n",
              "        response: {\n",
              "          action: 'append',\n",
              "          file: file.name,\n",
              "          data: base64,\n",
              "        },\n",
              "      };\n",
              "\n",
              "      let percentDone = fileData.byteLength === 0 ?\n",
              "          100 :\n",
              "          Math.round((position / fileData.byteLength) * 100);\n",
              "      percent.textContent = `${percentDone}% done`;\n",
              "\n",
              "    } while (position < fileData.byteLength);\n",
              "  }\n",
              "\n",
              "  // All done.\n",
              "  yield {\n",
              "    response: {\n",
              "      action: 'complete',\n",
              "    }\n",
              "  };\n",
              "}\n",
              "\n",
              "scope.google = scope.google || {};\n",
              "scope.google.colab = scope.google.colab || {};\n",
              "scope.google.colab._files = {\n",
              "  _uploadFiles,\n",
              "  _uploadFilesContinue,\n",
              "};\n",
              "})(self);\n",
              "</script> "
            ]
          },
          "metadata": {}
        },
        {
          "output_type": "stream",
          "name": "stdout",
          "text": [
            "Saving product3.csv to product3.csv\n",
            "product3.csv  sample_data\n"
          ]
        }
      ]
    },
    {
      "cell_type": "code",
      "source": [
        "#display file in drive\n",
        "\n",
        "#!ls\n",
        "!ls\n"
      ],
      "metadata": {
        "colab": {
          "base_uri": "https://localhost:8080/"
        },
        "id": "wDZuaTvNjFrr",
        "outputId": "a5e644ac-3633-45d2-8305-426b40a753d3"
      },
      "execution_count": 8,
      "outputs": [
        {
          "output_type": "stream",
          "name": "stdout",
          "text": [
            "product3.csv  sample_data\n"
          ]
        }
      ]
    },
    {
      "cell_type": "code",
      "source": [
        "#eda-pandas-demo-1.py\n",
        "import pandas as pd\n",
        "\n",
        "def import_data():\n",
        "  # load data from a CSV file\n",
        "  print(\"## load data from a CSV file\")\n",
        "  df = pd.read_csv('product3.csv')\n",
        "  print(df)\n",
        "\n",
        "def main():\n",
        "  import_data()\n",
        "\n",
        "if __name__ == \"__main__\":\n",
        "  main()\n"
      ],
      "metadata": {
        "colab": {
          "base_uri": "https://localhost:8080/"
        },
        "id": "YGuKRFHHfcbv",
        "outputId": "ad0d1f26-e83a-4f7e-8cad-666605f44923"
      },
      "execution_count": 9,
      "outputs": [
        {
          "output_type": "stream",
          "name": "stdout",
          "text": [
            "## load data from a CSV file\n",
            "        item       date   qty   price\n",
            "0        tv1     5/1/21     5  112.32\n",
            "1        tv2     1/5/21    10  312.42\n",
            "2   sneaker1    1/20/22     1   89.36\n",
            "3   sneaker2    12/5/23    20  238.23\n",
            "4      book1    8/10/23     1   73.20\n",
            "5      book2   11/10/24    15   52.36\n",
            "6    laptop1     4/8/23     5  324.00\n",
            "7    laptop2    7/18/22     1  522.57\n",
            "8    tablet1    1/28/20    30   67.37\n",
            "9    tablet2     7/8/21     2   78.32\n",
            "10    watch1    6/19/23    20  234.38\n",
            "11    watch2    4/27/21     4   83.28\n"
          ]
        }
      ]
    }
  ]
}