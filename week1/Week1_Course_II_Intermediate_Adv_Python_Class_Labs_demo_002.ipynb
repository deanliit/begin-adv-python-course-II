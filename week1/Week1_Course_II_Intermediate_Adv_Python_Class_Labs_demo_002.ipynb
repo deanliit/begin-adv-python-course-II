{
  "nbformat": 4,
  "nbformat_minor": 0,
  "metadata": {
    "colab": {
      "provenance": []
    },
    "kernelspec": {
      "name": "python3",
      "display_name": "Python 3"
    },
    "language_info": {
      "name": "python"
    }
  },
  "cells": [
    {
      "cell_type": "markdown",
      "source": [
        "#Python Course II - class summary / Syllibus\n",
        "- 10 weeks course (2.5h class/demos/labs) / 30 min practice\n",
        "\n",
        "#github course demos and examples\n",
        "\n",
        "- https://github.com/deanliit/begin-adv-python-course-I\n",
        "\n",
        "- https://github.com/deanliit/begin-adv-python-course-II\n",
        "\n",
        "### HomeWork/Class Projects/ Assignments\n",
        "- review course I example in cour book\n",
        "- review git/gihub\n",
        "- avaliable in google classroom\n",
        "- course book exercises\n",
        "\n",
        "## Python references\n",
        "https://www.w3schools.com/python/python_intro.asp\n",
        "Course book\n",
        "\n",
        "### Class Quiz\n",
        "- 3 quizzes\n",
        "- multiple choice\n",
        "- 10 or 15 questions\n",
        "- take home\n",
        "- approx. 1 week to complete\n",
        "- submit answers with quiz\n",
        "- similar question to python Entry Level Exam and some question from Associate Exam\n",
        "- no questions on Data Science, SQL, HTML, ETL\n",
        "- review quiz in class\n"
      ],
      "metadata": {
        "id": "WTQyaSpLjFfU"
      }
    },
    {
      "cell_type": "code",
      "source": [
        "#Python Course I - Summay / Overview"
      ],
      "metadata": {
        "id": "DwKJoh6MUoNS"
      },
      "execution_count": null,
      "outputs": []
    },
    {
      "cell_type": "code",
      "source": [
        "\"\"\"\n",
        "\n",
        "Introduction to git/github - used by 70%+ of industry\n",
        "\n",
        "- code repository\n",
        "- teams/developers can share code online\n",
        "- teams/developers modify same code without overwriting each others code\n",
        "- teams/developers - code collaboration\n",
        "- teams/developers - update code from command line\n",
        "\n",
        "https://www.w3schools.com/git/default.asp\n",
        "\n",
        "https://github.com\n",
        "  - online or command line\n",
        " - preview other code\n",
        " - download code\n",
        " - upload code\n",
        " - CRUD - create update and delete code online\n",
        "    - can preview or download other developer codes\n",
        "    - other developers code is readonly\n",
        "    - can not modify other developers code unless given permission by the other developers\n",
        "\n",
        "https://git-scm.com/downloads\n",
        " - download git command line tool\n",
        "\n",
        "> git --version\n",
        "\n",
        "Main Command line github code / terms\n",
        "- Repository or Repo - online code workspace ie: online root folder\n",
        "\n",
        "- git config --global user.name\n",
        "- git config --global user.email\n",
        "- git clone github-repo\n",
        "- git add\n",
        "- git commit\n",
        "- git push\n",
        "- git pull\n",
        "- git status\n",
        "- git log --oneline\n",
        "\n",
        "\n",
        "\"\"\""
      ],
      "metadata": {
        "id": "QdOu9Y3roPuv"
      },
      "execution_count": null,
      "outputs": []
    },
    {
      "cell_type": "code",
      "source": [
        "#git/github cone demo 1\n",
        "\n",
        "#github.com - browse and download code\n",
        "\n",
        "#git commanline - clone to download code\n",
        "\n",
        "#- start vs.code command line terminal from root ptoject folder \"git-github-demos\"\n",
        "\n",
        "#git clone repo-url\n",
        "#git clone https://github.com/deanliit/begin-adv-python-course-I.git\n",
        "#\n",
        "# - git creates a folder of repo\n",
        "#\n",
        "#cd begin-adv-python-course-I\n",
        "#\n",
        "#\n",
        "\n",
        "\"\"\"\n",
        "----------------------------------------\n",
        "vs.code exitsion to preview python notebook\n",
        "----------------------------------------\n",
        "\n",
        "Jupyter\n",
        "Microsoft\n",
        "\n",
        "\"\"\"\n"
      ],
      "metadata": {
        "id": "JV9VqPvZVO9P"
      },
      "execution_count": null,
      "outputs": []
    },
    {
      "cell_type": "markdown",
      "source": [
        "## Manually creating repositories\n",
        "- from github.com , selrct repositories / repo\n",
        "- create new public or provate repositories\n",
        "- add README.md\n",
        "\n",
        "### Branch - copy of repo code at a certain point in time\n",
        "- main branch is current copy of repo code\n",
        "\n",
        "### from CODE tab\n",
        "- copy clone repo url\n",
        "\n",
        "## clone repo\n",
        "- git clone repo-url.gi\n",
        "\n",
        "### or download code\n",
        "\n",
        "### or create file/folders or uplpoad code to repo\n",
        "\n",
        "### or edit files in repo\n",
        "\n",
        "## or delete files in repo\n",
        "\n",
        "## git keeps a history of al CRUD, create update and deletes called Commit history\n",
        "\n",
        "\n"
      ],
      "metadata": {
        "id": "-WPmWZYZZpR8"
      }
    },
    {
      "cell_type": "markdown",
      "source": [
        "### in-class practice Manully create Git repo practice\n",
        " - create a public repo\n",
        "  - add README.md\n",
        "- editng files\n",
        "- add files\n",
        "- delete files\n",
        "- upload files\n",
        "- preview commit history\n"
      ],
      "metadata": {
        "id": "pLf_h5PZgrPE"
      }
    },
    {
      "cell_type": "markdown",
      "source": [
        "### using vs.code to mofify a repo that you own or you are repo contributor\n",
        "\n",
        "- 1. create a public repo\n",
        "- add README.md\n",
        "\n",
        "- 2. start vs.code\n",
        "- 3. select a root folder project folder\n",
        "- 4. goto command line\n",
        "- 5. initialize git global user.name and user.email - (1 time step)\n",
        "\n",
        "- git config --global user.name \"your-github-user-name\"\n",
        "- git config --global user.email \"your-github-email\"\n",
        "\n",
        "- exmple:\n",
        "- git config --global user.name \"deanliit\"\n",
        "- git config --global user.email \"dean@liit.com\"\n",
        "\n",
        "- preview git global user.name , user.email\n",
        "\n",
        "- git config --global user.name\n",
        "- git config --global user.email\n",
        "\n",
        "- 6. clone repo\n",
        "- git clone your-github-repo\n",
        "git clone https://github.com/deanliit/demo1.git\n",
        "\n",
        "- 7. cd cloned folder\n",
        "- cd demo1\n",
        "\n",
        "- 8. from visual studio code\n",
        "- editng files\n",
        "- add files\n",
        "- delete files\n",
        "- upload files\n",
        "\n",
        "- 9. add change to git\n",
        "- git add .\n",
        "- commit changes to git\n",
        "- git commit -m \"update readme file\"\n",
        "\n",
        "- push or upload changes to github.com\n",
        "- git push origin main\n",
        "\n",
        "## origin alias = cloned github repo\n",
        "\n",
        "- preview commit history\n",
        "- git log\n",
        "- git log --oneline\n",
        "\n",
        "## other git commands\n",
        "- git status\n",
        "- git pull\n",
        "\n"
      ],
      "metadata": {
        "id": "byzC2bhtjpel"
      }
    }
  ]
}