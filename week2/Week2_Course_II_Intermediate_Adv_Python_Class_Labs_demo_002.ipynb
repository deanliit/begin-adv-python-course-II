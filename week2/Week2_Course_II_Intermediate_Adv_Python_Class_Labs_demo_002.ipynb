{
  "nbformat": 4,
  "nbformat_minor": 0,
  "metadata": {
    "colab": {
      "provenance": []
    },
    "kernelspec": {
      "name": "python3",
      "display_name": "Python 3"
    },
    "language_info": {
      "name": "python"
    }
  },
  "cells": [
    {
      "cell_type": "markdown",
      "source": [
        "#Python Course II - class summary / Syllibus\n",
        "- 10 weeks course (2.5h class/demos/labs) / 30 min practice\n",
        "\n",
        "#github course demos and examples\n",
        "\n",
        "- https://github.com/deanliit/begin-adv-python-course-I\n",
        "\n",
        "- https://github.com/deanliit/begin-adv-python-course-II\n",
        "\n",
        "### HomeWork/Class Projects/ Assignments\n",
        "- review course I example in cour book\n",
        "- review git/gihub\n",
        "- avaliable in google classroom\n",
        "- course book exercises\n",
        "\n",
        "## Python references\n",
        "https://www.w3schools.com/python/python_intro.asp\n",
        "- Course book\n",
        "\n",
        "### Class Quiz\n",
        "\n",
        "#### Email link to google forms\n",
        "\n",
        "- 3 quizzes - similar to python entry level quiz\n",
        "- multiple choice\n",
        "- 5 multiple choice quesitons = 70%\n",
        "- 1 code fill-in question\n",
        "-- write code is vs.code - copy code in quiz\n",
        "-- small example program -- %30\n",
        "example: write a progarm to compute 2 values\n",
        "optional: create a startup program\n",
        "input: prompt for each input\n",
        "output: display items and total\n",
        "\n",
        "name = input(\"name\")\n",
        "email = input(\"email\")\n",
        "print(f\"{name} {email}\")\n",
        "#print(name, email)\n",
        "\n",
        "or\n",
        "\n",
        "def main():\n",
        "  name = input(\"name\")\n",
        "  email = input(\"email\")\n",
        "  print(f\"{name} {email}\")\n",
        "  #print(name, email)\n",
        "\n",
        "if __name__ == \"__main__\":\n",
        "  main()\n",
        "  \n",
        "- take home\n",
        "- approx. 1 week to complete\n",
        "- submit answers with quiz\n",
        "- similar question to python Entry Level Exam and some question from Associate Exam\n",
        "- no questions on Data Science, SQL, HTML, ETL\n",
        "- review quiz in class\n"
      ],
      "metadata": {
        "id": "WTQyaSpLjFfU"
      }
    },
    {
      "cell_type": "code",
      "source": [
        "#Python Course I - Summay / Overview"
      ],
      "metadata": {
        "id": "DwKJoh6MUoNS"
      },
      "execution_count": null,
      "outputs": []
    },
    {
      "cell_type": "code",
      "source": [
        "#Creating python command line applications\n",
        "\"\"\"\n",
        "Python main app  __name__\n",
        "Parameter array: *args, **kvargs\n",
        "Import Modules\n",
        "- Error handling\n",
        "\n",
        "- pip install python-library-name\n",
        "- python -m pip install python-library-name\n",
        "\n",
        "\"\"\""
      ],
      "metadata": {
        "id": "CPViqGFPHUNf"
      },
      "execution_count": null,
      "outputs": []
    },
    {
      "cell_type": "code",
      "source": [
        "#class-demo-app-a.py\n",
        "\n",
        "\"\"\"\n",
        "class demo exercise\n",
        "#2.) create an application to input username and email\n",
        "   example: input, username, email\n",
        "   display username email\n",
        "   optional - accept username, email from parameter\n",
        "  ie: app1.py username email@email.com\n",
        "  also create python startup app ie: __name__ == ...\n",
        "\"\"\"\n",
        "\n",
        "print(\"class demo app 1.0\")\n",
        "name = input(\"name: \")\n",
        "email = input(\"email: \")\n",
        "#print(name,email)\n",
        "print(f\"{name}, {email}\")\n",
        "\n"
      ],
      "metadata": {
        "id": "MYxoaq74dXke"
      },
      "execution_count": null,
      "outputs": []
    },
    {
      "cell_type": "code",
      "source": [
        "#python demo console program\n",
        "#demo-app-b.py\n",
        "\n",
        "def func1():\n",
        "    print(\"demo python app 1.0\")\n",
        "\n",
        "#if program is imported the func1() will also be called\n",
        "func1()\n"
      ],
      "metadata": {
        "id": "rllSypdkaIrr"
      },
      "execution_count": null,
      "outputs": []
    },
    {
      "cell_type": "code",
      "source": [
        "#python demo console program\n",
        "#demo-app-1.py\n",
        "def func1():\n",
        "    print(\"demo python app 1.0\")\n",
        "\n",
        "#python auto update __name__ variable\n",
        "#if __name__ == __main__ = statup program\n",
        "#if __name__ == __module__  = imported module\n",
        "\n",
        "#main promgram - file in not being imported\n",
        "#print(__name__)\n",
        "\n",
        "if __name__ == \"__main__\":\n",
        "    #call starting function\n",
        "    func1()\n"
      ],
      "metadata": {
        "id": "uUNMYxWY0l-i"
      },
      "execution_count": null,
      "outputs": []
    },
    {
      "cell_type": "code",
      "source": [
        "#python demo console program\n",
        "#demo-app-2.py\n",
        "def app():\n",
        "    print(\"demo python app 2.0\")\n",
        "\n",
        "#form main startup python programs - desktop, web, other\n",
        "#do not run code if file/module is being imported\n",
        "if __name__ == \"__main__\":\n",
        "    app()\n"
      ],
      "metadata": {
        "id": "uQlUKacJMBsW"
      },
      "execution_count": null,
      "outputs": []
    },
    {
      "cell_type": "code",
      "source": [
        "#class-demo-app-a.py\n",
        "\n",
        "\"\"\"\n",
        "class demo exercise\n",
        "#2.) create an application to input username and email\n",
        "   example: input, username, email\n",
        "   display username email\n",
        "   optional - accept username, email from parameter\n",
        "  ie: app1.py username email@email.com\n",
        "  also create python startup app ie: __name__ == ...\n",
        "\"\"\"\n",
        "\n",
        "def main():\n",
        "    print(\"class demo app 1.0\")\n",
        "    name = input(\"name: \")\n",
        "    email = input(\"email: \")\n",
        "    #print(name,email)\n",
        "    print(f\"{name}, {email}\")\n",
        "\n",
        "if __name__ == \"__main__\":\n",
        "    main()\n"
      ],
      "metadata": {
        "id": "lrUSltNYcD3i"
      },
      "execution_count": null,
      "outputs": []
    },
    {
      "cell_type": "code",
      "source": [
        "\"\"\"\n",
        "class demo exercise\n",
        "#2.) create an application to input username and email\n",
        "   example: input, username, email\n",
        "   display username email\n",
        "   optional - accept username, email from parameter\n",
        "  ie: app1.py username email@email.com\n",
        "  also create python startup app ie: __name__ == ...\n",
        "\"\"\"\n",
        "\n",
        "#class-demo-app-1.py\n",
        "\n",
        "def displayinfo(name, email):\n",
        "    #print(name,email)\n",
        "    print(f\"{name}, {email}\")\n",
        "\n",
        "def main():\n",
        "    print(\"class demo app 1.0\")\n",
        "    name = input(\"name: \")\n",
        "    email = input(\"email: \")\n",
        "    #modular app - seperate functions\n",
        "    displayinfo(name,email)\n",
        "\n",
        "if __name__ == \"__main__\":\n",
        "    main()\n"
      ],
      "metadata": {
        "id": "iSli33kXNina"
      },
      "execution_count": null,
      "outputs": []
    },
    {
      "cell_type": "code",
      "source": [
        "#demo-sys-args-1.py\n",
        "\n",
        "import sys\n",
        "\n",
        "program_name = sys.argv[0]\n",
        "arg1 = sys.argv[1]\n",
        "arg2 = sys.argv[2]\n"
      ],
      "metadata": {
        "id": "o1Fa27KyVkCw"
      },
      "execution_count": null,
      "outputs": []
    },
    {
      "cell_type": "code",
      "source": [
        "#Parameter array: *args, **kvargs\n",
        "#class-demo-app-2.py\n",
        "\n",
        "\"\"\"\n",
        "\n",
        "class-demo-app-2.py name1 email@email.com\n",
        "\n",
        "class-demo-app-2.py  name\n",
        "\n",
        "-- argv[2] -- index error\n",
        "\n",
        "class-demo-app-2.py\n",
        "\n",
        "-- argv[1] -- index error\n",
        "-- argv[2] -- index error\n",
        "\n",
        "## intro to error handling\n",
        "\n",
        "## argv[0] = program name ie: class-demo-app-2.py\n",
        "\n",
        "\"\"\"\n",
        "\n",
        "import sys\n",
        "\n",
        "def displayinfo(name, email):\n",
        "    print(f\"{name}, {email}\")\n",
        "\n",
        "def main():\n",
        "    print(\"class demo app 2.0\")\n",
        "    #print(sys.argv[0]) #program name: class-demo-app-2.py\n",
        "    name = sys.argv[1] #input(\"name: \")\n",
        "    email = sys.argv[2] #input(\"email: \")\n",
        "    displayinfo(name,email)\n",
        "\n",
        "if __name__ == \"__main__\":\n",
        "    main()\n",
        "\n"
      ],
      "metadata": {
        "id": "isdl2K4nUY2l"
      },
      "execution_count": null,
      "outputs": []
    },
    {
      "cell_type": "code",
      "source": [
        "#Error handling\n",
        "#class-demo-app-3.py\n",
        "\n",
        "import sys\n",
        "\n",
        "def displayinfo(name, email):\n",
        "    print(f\"{name}, {email}\")\n",
        "\n",
        "def main():\n",
        "    print(\"class demo app 3.0\")\n",
        "    name = sys.argv[1] #input(\"name: \")\n",
        "    email = sys.argv[2] #input(\"email: \")\n",
        "    displayinfo(name,email)\n",
        "\n",
        "if __name__ == \"__main__\":\n",
        "  try:\n",
        "    main()\n",
        "  except:\n",
        "    print(\"app error\")\n"
      ],
      "metadata": {
        "id": "gianjVtkUdGZ"
      },
      "execution_count": null,
      "outputs": []
    },
    {
      "cell_type": "code",
      "source": [
        "#Error handling\n",
        "#class-demo-app-4.py\n",
        "\n",
        "import sys\n",
        "\n",
        "def displayinfo(name, email):\n",
        "    print(f\"{name}, {email}\")\n",
        "\n",
        "def main():\n",
        "    print(\"class demo app 4.0\")\n",
        "    name = sys.argv[1] #input(\"name: \")\n",
        "    email = sys.argv[2] #input(\"email: \")\n",
        "    displayinfo(name,email)\n",
        "\n",
        "if __name__ == \"__main__\":\n",
        "  try:\n",
        "    main()\n",
        "  except Exception as err:\n",
        "    #Exception is all or generic or any error that occured\n",
        "    #ValueError - specific error tha occured\n",
        "    print(\"app error\")\n",
        "    print(err)"
      ],
      "metadata": {
        "id": "fvaUkcKqbkgX"
      },
      "execution_count": null,
      "outputs": []
    },
    {
      "cell_type": "code",
      "source": [
        "#lib1.py\n",
        "\n",
        "def displayinfo(name, email):\n",
        "    print(f\"{name}, {email}\")\n",
        "\n",
        "#test function\n",
        "#comment test code before file is imported\n",
        "#displayinfo(\"user1\", \"user1@email.com\")\n",
        "\n",
        "#or -- use if __name__ == \"__main__\":\n",
        "#if __name__ == \"__main__\":\n",
        "    #displayinfo(\"user1\", \"user1@email.com\")\n"
      ],
      "metadata": {
        "id": "wY-T4iqJi9vh"
      },
      "execution_count": null,
      "outputs": []
    },
    {
      "cell_type": "code",
      "source": [
        "#module import demo\n",
        "#class-demo-app-5.py\n",
        "\n",
        "import sys\n",
        "#import lib1\n",
        "from lib1 import displayinfo #, other-method1\n",
        "#import lib1 as lb1\n",
        "\n",
        "#move function to another file\n",
        "#lib1.py\n",
        "\"\"\"\n",
        "def displayinfo(name, email):\n",
        "    print(f\"{name}, {email}\")\n",
        "\"\"\"\n",
        "\n",
        "def main():\n",
        "    print(\"class demo app 4.0\")\n",
        "    name = sys.argv[1] #input(\"name: \")\n",
        "    email = sys.argv[2] #input(\"email: \")\n",
        "    displayinfo(name,email)  #from lib1 import displayinfo #, other-method1\n",
        "    #lb1.displayinfo(name,email)\n",
        "    #lib1.displayinfo(name,email)\n",
        "\n",
        "if __name__ == \"__main__\":\n",
        "  try:\n",
        "    main()\n",
        "  except Exception as err:\n",
        "    print(\"app error\")\n",
        "    print(err)\n",
        "\n"
      ],
      "metadata": {
        "id": "UY2pE2DthGh_"
      },
      "execution_count": null,
      "outputs": []
    },
    {
      "cell_type": "code",
      "source": [
        "#python EDA, ETL, ELT\n",
        "\n",
        "#Exploritory Data Analysis\n",
        "#Extract Transform Load\n",
        "#Extract Load Transform\n",
        "\n",
        "#https://www.programiz.com/python-programming/pandas/introduction\n"
      ],
      "metadata": {
        "id": "xO-7rviiIK6C"
      },
      "execution_count": null,
      "outputs": []
    }
  ]
}