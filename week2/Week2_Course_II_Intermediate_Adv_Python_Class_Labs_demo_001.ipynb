{
  "nbformat": 4,
  "nbformat_minor": 0,
  "metadata": {
    "colab": {
      "provenance": []
    },
    "kernelspec": {
      "name": "python3",
      "display_name": "Python 3"
    },
    "language_info": {
      "name": "python"
    }
  },
  "cells": [
    {
      "cell_type": "markdown",
      "source": [
        "#Python Course II - class summary / Syllibus\n",
        "- 10 weeks course (2.5h class/demos/labs) / 30 min practice\n",
        "\n",
        "#github course demos and examples\n",
        "\n",
        "- https://github.com/deanliit/begin-adv-python-course-I\n",
        "\n",
        "- https://github.com/deanliit/begin-adv-python-course-II\n",
        "\n",
        "### HomeWork/Class Projects/ Assignments\n",
        "- review course I example in cour book\n",
        "- review git/gihub\n",
        "- avaliable in google classroom\n",
        "- course book exercises\n",
        "\n",
        "## Python references\n",
        "https://www.w3schools.com/python/python_intro.asp\n",
        "Course book\n",
        "\n",
        "### Class Quiz\n",
        "- 3 quizzes\n",
        "- multiple choice\n",
        "- 10 or 15 questions\n",
        "- take home\n",
        "- approx. 1 week to complete\n",
        "- submit answers with quiz\n",
        "- similar question to python Entry Level Exam and some question from Associate Exam\n",
        "- no questions on Data Science, SQL, HTML, ETL\n",
        "- review quiz in class\n"
      ],
      "metadata": {
        "id": "WTQyaSpLjFfU"
      }
    },
    {
      "cell_type": "code",
      "source": [
        "#Python Course I - Summay / Overview"
      ],
      "metadata": {
        "id": "DwKJoh6MUoNS"
      },
      "execution_count": null,
      "outputs": []
    },
    {
      "cell_type": "code",
      "source": [
        "#Creating python command line applications\n",
        "\"\"\"\n",
        "Python main app  __name__\n",
        "Parameter array: *args, **kvargs\n",
        "Import Modules\n",
        "- Error handling\n",
        "\n",
        "- pip install python-library-name\n",
        "- python -m pip install python-library-name\n",
        "\n",
        "\"\"\""
      ],
      "metadata": {
        "id": "CPViqGFPHUNf"
      },
      "execution_count": null,
      "outputs": []
    },
    {
      "cell_type": "code",
      "source": [
        "#python demo console program\n",
        "#demo-app-1.py\n",
        "def func1():\n",
        "    print(\"demo python app 1.0\")\n",
        "\n",
        "#python auto update __name__ variable\n",
        "#if __name__ == __main__ = statup program\n",
        "#if __name__ == __module__  = imported module\n",
        "\n",
        "#main promgram - file in not being imported\n",
        "#print(__name__)\n",
        "\n",
        "if __name__ == \"__main__\":\n",
        "    #call starting function\n",
        "    func1()\n"
      ],
      "metadata": {
        "id": "uUNMYxWY0l-i"
      },
      "execution_count": null,
      "outputs": []
    },
    {
      "cell_type": "code",
      "source": [
        "#python demo console program\n",
        "#demo-app-2.py\n",
        "def app():\n",
        "    print(\"demo python app 2.0\")\n",
        "\n",
        "#form main startup python programs - desktop, web, other\n",
        "#do not run code if file/module is being imported\n",
        "if __name__ == \"__main__\":\n",
        "    app()\n"
      ],
      "metadata": {
        "id": "uQlUKacJMBsW"
      },
      "execution_count": null,
      "outputs": []
    },
    {
      "cell_type": "code",
      "source": [
        "\"\"\"\n",
        "class demo exercise\n",
        "#2.) create an application to input username and email\n",
        "   example: input, username, email\n",
        "   display username email\n",
        "   optional - accept username, email from parameter\n",
        "  ie: app1.py username email@email.com\n",
        "  also create python startup app ie: __name__ == ...\n",
        "\"\"\"\n",
        "\n",
        "#class-demo-app-1.py\n",
        "\n",
        "def displayinfo(name, email):\n",
        "    #print(name,email)\n",
        "    print(f\"{name}, {email}\")\n",
        "\n",
        "def main():\n",
        "    print(\"class demo app 1.0\")\n",
        "    name = input(\"name: \")\n",
        "    email = input(\"email: \")\n",
        "    #modular app - seperate functions\n",
        "    displayinfo(name,email)\n",
        "\n",
        "if __name__ == \"__main__\":\n",
        "    main()\n"
      ],
      "metadata": {
        "id": "iSli33kXNina"
      },
      "execution_count": null,
      "outputs": []
    },
    {
      "cell_type": "code",
      "source": [
        "#demo-sys-args-1.py\n",
        "\n",
        "import sys\n",
        "\n",
        "program_name = sys.argv[0]\n",
        "arg1 = sys.argv[1]\n",
        "arg2 = sys.argv[2]\n"
      ],
      "metadata": {
        "id": "o1Fa27KyVkCw"
      },
      "execution_count": 2,
      "outputs": []
    },
    {
      "cell_type": "code",
      "source": [
        "#Parameter array: *args, **kvargs\n",
        "#class-demo-app-2.py\n",
        "\n",
        "\"\"\"\n",
        "\n",
        "class-demo-app-2.py name1 email@email.com\n",
        "\n",
        "class-demo-app-2.py  name\n",
        "\n",
        "-- argv[2] -- index error\n",
        "\n",
        "class-demo-app-2.py\n",
        "\n",
        "-- argv[1] -- index error\n",
        "-- argv[2] -- index error\n",
        "\n",
        "## intro to error handling\n",
        "\n",
        "## argv[0] = program name ie: class-demo-app-2.py\n",
        "\n",
        "\"\"\"\n",
        "\n",
        "import sys\n",
        "\n",
        "def displayinfo(name, email):\n",
        "    print(f\"{name}, {email}\")\n",
        "\n",
        "def main():\n",
        "    print(\"class demo app 2.0\")\n",
        "    #print(sys.argv[0])\n",
        "    name = sys.argv[1] #input(\"name: \")\n",
        "    email = sys.argv[2] #input(\"email: \")\n",
        "    displayinfo(name,email)\n",
        "\n",
        "if __name__ == \"__main__\":\n",
        "    main()\n",
        "\n"
      ],
      "metadata": {
        "id": "isdl2K4nUY2l"
      },
      "execution_count": null,
      "outputs": []
    },
    {
      "cell_type": "code",
      "source": [
        "#Error handling\n",
        "#class-demo-app-3.py\n",
        "\n",
        "import sys\n",
        "\n",
        "def displayinfo(name, email):\n",
        "    print(f\"{name}, {email}\")\n",
        "\n",
        "def main():\n",
        "    print(\"class demo app 3.0\")\n",
        "    name = sys.argv[1] #input(\"name: \")\n",
        "    email = sys.argv[2] #input(\"email: \")\n",
        "    displayinfo(name,email)\n",
        "\n",
        "if __name__ == \"__main__\":\n",
        "  try:\n",
        "    main()\n",
        "  except:\n",
        "    print(\"app error\")\n",
        ""
      ],
      "metadata": {
        "id": "gianjVtkUdGZ"
      },
      "execution_count": null,
      "outputs": []
    },
    {
      "cell_type": "code",
      "source": [
        "#Error handling\n",
        "#class-demo-app-4.py\n",
        "\n",
        "import sys\n",
        "\n",
        "def displayinfo(name, email):\n",
        "    print(f\"{name}, {email}\")\n",
        "\n",
        "def main():\n",
        "    print(\"class demo app 4.0\")\n",
        "    name = sys.argv[1] #input(\"name: \")\n",
        "    email = sys.argv[2] #input(\"email: \")\n",
        "    displayinfo(name,email)\n",
        "\n",
        "if __name__ == \"__main__\":\n",
        "  try:\n",
        "    main()\n",
        "  except Exception as err:\n",
        "    #Exception is all or generic or any error that occured\n",
        "    #ValueError - specific error tha occured\n",
        "    print(\"app error\")\n",
        "    print(err)"
      ],
      "metadata": {
        "id": "fvaUkcKqbkgX"
      },
      "execution_count": null,
      "outputs": []
    },
    {
      "cell_type": "code",
      "source": [
        "#Import Modules\n",
        "\"\"\"\n",
        "-- import display info\n",
        "def displayinfo(name, email):\n",
        "    print(f\"{name}, {email}\")\n",
        "\n",
        "\"\"\"\n"
      ],
      "metadata": {
        "id": "bWx00ji-Y6mz"
      },
      "execution_count": null,
      "outputs": []
    }
  ]
}