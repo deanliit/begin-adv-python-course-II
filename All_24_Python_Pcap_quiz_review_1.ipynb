{
  "nbformat": 4,
  "nbformat_minor": 0,
  "metadata": {
    "colab": {
      "provenance": []
    },
    "kernelspec": {
      "name": "python3",
      "display_name": "Python 3"
    },
    "language_info": {
      "name": "python"
    }
  },
  "cells": [
    {
      "cell_type": "code",
      "execution_count": null,
      "metadata": {
        "colab": {
          "base_uri": "https://localhost:8080/"
        },
        "id": "ejFvShSVZYvR",
        "outputId": "21979a73-701e-414b-e875-dc200c99510c"
      },
      "outputs": [
        {
          "output_type": "stream",
          "name": "stdout",
          "text": [
            "1\n"
          ]
        }
      ],
      "source": [
        "#1\n",
        "\n",
        "i = 0\n",
        "while i !=0:\n",
        "  i=i-1\n",
        "else:\n",
        "  i=i+1\n",
        "\n",
        "#answer A. 1\n",
        "\n",
        "print(i)"
      ]
    },
    {
      "cell_type": "code",
      "source": [
        "#2 - bit shift\n",
        "#And operator able to perform bitwise shifts is coded as (Choose two.)\n",
        "\n",
        "#A. --\n",
        "#B. ++\n",
        "#* C. <<\n",
        "#* D. >>\n"
      ],
      "metadata": {
        "id": "Hw7tp-DoaDQo"
      },
      "execution_count": null,
      "outputs": []
    },
    {
      "cell_type": "code",
      "source": [
        "#3\n",
        "#What will the value of the i variable be when the following loop finishes its execution?\n",
        "\n",
        "\"\"\"\n",
        "A. 10\n",
        "* B. the variable becomes unavailable\n",
        "C. 11\n",
        "D. 9\n",
        "\"\"\"\n",
        "\n",
        "for i in range(10):\n",
        "  pass\n",
        "\n",
        "print(i)\n",
        "\n"
      ],
      "metadata": {
        "colab": {
          "base_uri": "https://localhost:8080/"
        },
        "id": "CxjT1IAaaQ2c",
        "outputId": "4c8a274d-7264-4cc6-cf1d-dd33ee5ba6a4"
      },
      "execution_count": null,
      "outputs": [
        {
          "output_type": "stream",
          "name": "stdout",
          "text": [
            "9\n"
          ]
        }
      ]
    },
    {
      "cell_type": "code",
      "source": [
        "#4\n",
        "\n",
        "\n",
        "'''\n",
        "A. equal to 1\n",
        "B. invalid\n",
        "C. equal to 2\n",
        "* D. equal to -1\n",
        "'''\n",
        "\n",
        "print(1+-2)\n"
      ],
      "metadata": {
        "colab": {
          "base_uri": "https://localhost:8080/"
        },
        "id": "qgRgZPjLaej9",
        "outputId": "629050ff-8807-411d-b687-04fa48f277b2"
      },
      "execution_count": null,
      "outputs": [
        {
          "output_type": "stream",
          "name": "stdout",
          "text": [
            "-1\n"
          ]
        }
      ]
    },
    {
      "cell_type": "code",
      "source": [
        "#5\n",
        "#compuile: check source for error and translate source into machine code\n"
      ],
      "metadata": {
        "id": "jm_9VjxYa4en"
      },
      "execution_count": null,
      "outputs": []
    },
    {
      "cell_type": "code",
      "source": [
        "#6\n",
        "\n",
        "a='ant'\n",
        "b=\"bat\"\n",
        "c='camel'\n",
        "d=\"test\"\n",
        "#print(a,b,c,sep='\"') #ant\"bat\"camel\n",
        "print(a,b,c,d,sep='\"')"
      ],
      "metadata": {
        "colab": {
          "base_uri": "https://localhost:8080/"
        },
        "id": "hnQLvcHcbQ8s",
        "outputId": "c8dfafdc-3ba4-45b6-c705-e0365ec4ce30"
      },
      "execution_count": null,
      "outputs": [
        {
          "output_type": "stream",
          "name": "stdout",
          "text": [
            "ant\"bat\"camel\"test\n"
          ]
        }
      ]
    },
    {
      "cell_type": "code",
      "source": [
        "#7\n",
        "\n",
        "i=5\n",
        "while i>0:\n",
        "  i=i//2\n",
        "  print(\"i: \", str(i))\n",
        "  #if i % 2=0:  #error\n",
        "  if i % 2==0:\n",
        "    break;\n",
        "  else:\n",
        "    i+=1\n",
        "\n",
        "print(i)\n",
        "\n",
        "#A. code is an error\n"
      ],
      "metadata": {
        "colab": {
          "base_uri": "https://localhost:8080/"
        },
        "id": "2jnolPJubzte",
        "outputId": "b0248506-0038-4aa1-8553-bf31e9fb36e7"
      },
      "execution_count": null,
      "outputs": [
        {
          "output_type": "stream",
          "name": "stdout",
          "text": [
            "i:  2\n",
            "2\n"
          ]
        }
      ]
    },
    {
      "cell_type": "code",
      "source": [
        "#8\n",
        "\n",
        "for i in range(1,3):\n",
        "  print(\"*\",end=\"\")\n",
        "else:\n",
        "  print(\"*\")\n",
        "\n",
        "#. A three - ***\n"
      ],
      "metadata": {
        "colab": {
          "base_uri": "https://localhost:8080/"
        },
        "id": "mzhc-X77cbBd",
        "outputId": "2a5f848e-edcc-4078-a670-c9dee5018584"
      },
      "execution_count": null,
      "outputs": [
        {
          "output_type": "stream",
          "name": "stdout",
          "text": [
            "***\n"
          ]
        }
      ]
    },
    {
      "cell_type": "code",
      "source": [
        "#9\n",
        "\n",
        "\"\"\"\n",
        "Which of the following literals reflect the value given as 34.23?\n",
        "\n",
        "* A. .3423e2\n",
        "* B. 3423e-2\n",
        "C. .3423e-2\n",
        "D. 3423e2\n",
        "\n",
        "\"\"\"\n",
        "print(.3423e2)\n",
        "print(3423e-2)\n",
        "print(\"------------\")\n",
        "print(34.23)\n",
        "print(.3423e-2)\n",
        "print(3423e2)\n"
      ],
      "metadata": {
        "id": "WUSTEpdGctMz",
        "colab": {
          "base_uri": "https://localhost:8080/"
        },
        "outputId": "1c16e34f-0a11-44c7-dfae-64541e4045e8"
      },
      "execution_count": null,
      "outputs": [
        {
          "output_type": "stream",
          "name": "stdout",
          "text": [
            "34.23\n",
            "34.23\n",
            "------------\n",
            "34.23\n",
            "0.003423\n",
            "342300.0\n"
          ]
        }
      ]
    },
    {
      "cell_type": "code",
      "source": [
        "#10\n",
        "\n",
        "#error\n",
        "\"\"\"\n",
        "a=2\n",
        "if a>0:\n",
        "  a+=1\n",
        "  else:\n",
        "    a-=1\n",
        "\"\"\"\n",
        "\n",
        "a=2\n",
        "if a>0:\n",
        "  a+=1\n",
        "else:\n",
        "  a-=1\n",
        "\n",
        "print(a)\n",
        "\n",
        "#A. 3\n"
      ],
      "metadata": {
        "colab": {
          "base_uri": "https://localhost:8080/"
        },
        "id": "LRG1unZSdu3H",
        "outputId": "b6dbb648-1bd0-4403-dc0b-eebeba95e014"
      },
      "execution_count": null,
      "outputs": [
        {
          "output_type": "stream",
          "name": "stdout",
          "text": [
            "3\n"
          ]
        }
      ]
    },
    {
      "cell_type": "code",
      "source": [
        "#11\n",
        "a=[1]\n",
        "print(\"a\\[1\\] = \", a)\n",
        "b=a\n",
        "print(\"b = \", b)\n",
        "a[0]=0\n",
        "print(\"a\\[0\\] \", a)\n",
        "\n",
        "print()\n",
        "print(f\"* same ref updated: {a[0]} - a[0] == b[0] - {b[0]}\")\n",
        "print(\"a == b \",a == b)\n",
        "print()\n",
        "\n",
        "print(\"* A. \",(len(a) == len(b)))\n",
        "print(\" B. \",(b[0] +1 == a[0]))\n",
        "print(\"* C. \",(a[0] == b[0]))\n",
        "print(\" D.  \",(a[0] + 1 == b[0]))\n"
      ],
      "metadata": {
        "id": "5EqMx16QeIZv",
        "colab": {
          "base_uri": "https://localhost:8080/"
        },
        "outputId": "112363f2-444c-4996-d7d2-9305a1e85548"
      },
      "execution_count": null,
      "outputs": [
        {
          "output_type": "stream",
          "name": "stdout",
          "text": [
            "a\\[1\\] =  [1]\n",
            "b =  [1]\n",
            "a\\[0\\]  [0]\n",
            "* same ref updated: 0 - a[0] == b[0] - 0\n",
            "\n",
            "* A.  True\n",
            " B.  False\n",
            "* C.  True\n",
            " D.   False\n"
          ]
        }
      ]
    },
    {
      "cell_type": "code",
      "source": [
        "#12\n",
        "a=[0]\n",
        "print(\"a\\[0\\] = \", a)\n",
        "b=a[:]  #create a new copy instance/not same reference\n",
        "print(\"b = \", b)\n",
        "a[0]=1\n",
        "print(\"a\\[0\\] \", a)\n",
        "\n",
        "#isinstance(a,list)\n",
        "print()\n",
        "print(\"type: a,b\", type(a), type(b))\n",
        "print(\"a.id,b.id\", id(a), id(b))\n",
        "print(\"a == b \",a == b)\n",
        "print()\n",
        "print(f\"* different ref updated: {a[0]} - a[0] == b[0] - {b[0]}\")\n",
        "print()\n",
        "\n",
        "print(\"*A. \",(len(a) == len(b)))\n",
        "print(\"*B. \",(a[0]-1 == b[0]))\n",
        "print(\"C. \",(a[0] == b[0]))\n",
        "print(\"D.  \",(b[0] - 1 == a[0]))\n",
        "\n",
        "\n"
      ],
      "metadata": {
        "colab": {
          "base_uri": "https://localhost:8080/"
        },
        "id": "wCG7N3Z0jhXx",
        "outputId": "5ca3938f-eca3-4902-9c38-b32eb119a75a"
      },
      "execution_count": null,
      "outputs": [
        {
          "output_type": "stream",
          "name": "stdout",
          "text": [
            "a\\[0\\] =  [0]\n",
            "b =  [0]\n",
            "a\\[0\\]  [1]\n",
            "\n",
            "type: a,b <class 'list'> <class 'list'>\n",
            "a.id,b.id 136459408837824 136459408842624\n",
            "\n",
            "* different ref updated: 1 - a[0] == b[0] - 0\n",
            "\n",
            "*A.  True\n",
            "*B.  True\n",
            "C.  False\n",
            "D.   False\n"
          ]
        }
      ]
    },
    {
      "cell_type": "code",
      "source": [
        "#13\n",
        "\"\"\"\n",
        "A. Python strings are actually lists\n",
        "* B. Python strings can be concatenated\n",
        "* C. Python strings can be sliced like lists\n",
        "D. Python strings are mutable\n",
        "\"\"\"\n",
        "\n"
      ],
      "metadata": {
        "id": "1c5uB1T1jhcQ",
        "colab": {
          "base_uri": "https://localhost:8080/"
        },
        "outputId": "29878805-d68e-4801-a560-3dce305fbd3a"
      },
      "execution_count": null,
      "outputs": [
        {
          "output_type": "stream",
          "name": "stdout",
          "text": [
            "t\n",
            "t\n",
            "e\n",
            "s\n",
            "t\n"
          ]
        }
      ]
    },
    {
      "cell_type": "code",
      "source": [
        "#14\n",
        "\"\"\"\n",
        "A. Lists may not be stored inside tuples\n",
        "* B. Tuples may be stored inside lists\n",
        "C. Tuples may not be stored inside tuples\n",
        "* D. Lists may be stored inside lists\n",
        "\"\"\"\n"
      ],
      "metadata": {
        "id": "YDKGMNn3jhgh"
      },
      "execution_count": null,
      "outputs": []
    },
    {
      "cell_type": "code",
      "source": [
        "#15\n",
        "\"\"\"\n",
        "Assuming that String is six or more letters long, the following slice\n",
        "is shorter than the original string by:\n",
        "\n",
        "string [1:2]\n",
        "\n",
        "A. four chars\n",
        "* B. three chars\n",
        "C. one char\n",
        "D. two chars\n",
        "\"\"\"\n"
      ],
      "metadata": {
        "id": "pj2NfdBJjhkr"
      },
      "execution_count": null,
      "outputs": []
    },
    {
      "cell_type": "code",
      "source": [
        "#16\n",
        "\n",
        "lst = [1,2,3,4]\n",
        "\n",
        "lst = lst[-3:-2]\n",
        "print(lst)\n",
        "\n",
        "lst=lst[-1]\n",
        "print(lst)\n"
      ],
      "metadata": {
        "colab": {
          "base_uri": "https://localhost:8080/"
        },
        "id": "sGA7O3aijoPt",
        "outputId": "adb1ec66-1cfb-4359-a04a-d16a9a3da353"
      },
      "execution_count": null,
      "outputs": [
        {
          "output_type": "stream",
          "name": "stdout",
          "text": [
            "[2]\n",
            "2\n"
          ]
        }
      ]
    },
    {
      "cell_type": "code",
      "source": [
        "#17\n",
        "s='abc'\n",
        "x=0\n",
        "#for i in len(s):\n",
        "for i in s:\n",
        "  #print(s[i].upper())\n",
        "  #print(i.upper())\n",
        "  #immutable string -- error\n",
        "  #s[i] = s[i].upper()\n",
        "  print(i.upper())\n",
        "  x +=1\n",
        "\n",
        "print(s)\n"
      ],
      "metadata": {
        "colab": {
          "base_uri": "https://localhost:8080/"
        },
        "id": "LWLgttM7joVW",
        "outputId": "da14d504-f4d0-4fb2-f981-bbc0747b7e02"
      },
      "execution_count": null,
      "outputs": [
        {
          "output_type": "stream",
          "name": "stdout",
          "text": [
            "A\n",
            "B\n",
            "C\n",
            "abc\n"
          ]
        }
      ]
    },
    {
      "cell_type": "code",
      "source": [
        "#18\n",
        "\"\"\"\n",
        "How many elements will the list2 list contain after execution of the following snippet?\n",
        "\n",
        "A. zero\n",
        "B. five\n",
        "* C. seven\n",
        "D. three\n",
        "\n",
        "\"\"\"\n",
        "\n",
        "list1 = [False for i in range(1,10)]\n",
        "print(list1)\n",
        "\n",
        "list2 = list1[-1:1:-1]\n",
        "print(list2)\n"
      ],
      "metadata": {
        "colab": {
          "base_uri": "https://localhost:8080/"
        },
        "id": "v1tV9HSvjoZM",
        "outputId": "ba38bc55-3e4f-4177-acde-751edb6be62e"
      },
      "execution_count": null,
      "outputs": [
        {
          "output_type": "stream",
          "name": "stdout",
          "text": [
            "[False, False, False, False, False, False, False, False, False]\n",
            "[False, False, False, False, False, False, False]\n"
          ]
        }
      ]
    },
    {
      "cell_type": "code",
      "source": [
        "#19\n",
        "\n",
        "\"\"\"\n",
        "Check if key exists in dictionary\n",
        "\"\"\"\n",
        "\n",
        "#A. 'key' in dict\n",
        "#* B. dict[\"key\"] != None\n",
        "#C. dict exists(\"key\")\n",
        "#* D. 'key' in dict.keys()\n"
      ],
      "metadata": {
        "id": "4BVcq60tjodD"
      },
      "execution_count": null,
      "outputs": []
    },
    {
      "cell_type": "code",
      "source": [
        "#20\n",
        "\n",
        "\"\"\"\n",
        "You need data which can act as a simple telephone directory. You can obtain it with the following clauses\n",
        "(Choose two.) (assume that no other items have been created before)\n",
        "\n",
        "A. dir={‘Mom’: 5551234567, ‘Dad’: 5557654321}\n",
        "B. dir= {‘Mom’: ‘5551234567’, ‘Dad’: ‘5557654321’}\n",
        "* C. dir= {Mom: 5551234567, Dad: 5557654321}\n",
        "* D. dir= {Mom: ‘5551234567’, Dad: ‘5557654321’}\n",
        "\n",
        "\"\"\""
      ],
      "metadata": {
        "id": "Uw0pEH7mjoga"
      },
      "execution_count": null,
      "outputs": []
    },
    {
      "cell_type": "code",
      "source": [
        "#21\n",
        "\"\"\"\n",
        "Can a module run like regular code?\n",
        "\n",
        "* A. yes, and it can differentiate its behavior between the regular launch and import\n",
        "B. it depends on the Python version\n",
        "C. yes, but in cannot differentiate its behavior between the regular launch and import\n",
        "D. no, it is not possible; a module can be imported, not run\n",
        "\n",
        "\"\"\""
      ],
      "metadata": {
        "id": "uoU6-p3ljokM"
      },
      "execution_count": null,
      "outputs": []
    },
    {
      "cell_type": "code",
      "source": [
        "#22\n",
        "#select the valid fun() invocation. choose two.\n",
        "\n",
        "def fun(a,b=0):\n",
        "  return a*b\n",
        "\n",
        "\"\"\"\n",
        "A. fun (b=1)\n",
        "* B. fun (a=0)\n",
        "C. fun (b=1, 0)\n",
        "* D. fun (1)\n",
        "\"\"\"\n"
      ],
      "metadata": {
        "id": "CoLFxjeWjooQ"
      },
      "execution_count": null,
      "outputs": []
    },
    {
      "cell_type": "code",
      "source": [
        "#23\n",
        "\"\"\"\n",
        "A file name like this one below says that:\n",
        "(Choose three.)\n",
        "\n",
        "services, cpython 36.pyc\n",
        "\n",
        "* A. the interpreter used to generate the file is version 3.6\n",
        "* B. it has been produced by CPython\n",
        "C. it is the 36th version of the file\n",
        "* D. the file comes from the services.py source file\n",
        "\n",
        "\"\"\"\n"
      ],
      "metadata": {
        "id": "nSrGaHMdjosU"
      },
      "execution_count": null,
      "outputs": []
    },
    {
      "cell_type": "code",
      "source": [
        "#24\n",
        "\n",
        "#invalid syntax\n",
        "\n",
        "def a(l,I):\n",
        "  return l[I]\n",
        "\n",
        "print(a(0,[1]))\n"
      ],
      "metadata": {
        "id": "Dyw_LNUejowI"
      },
      "execution_count": null,
      "outputs": []
    },
    {
      "cell_type": "code",
      "source": [
        "#25\n",
        "\"\"\"\n",
        "What can you do if you don’t like a long package path like this one?\n",
        "\n",
        "import alpha.beta.gamma.delta.epsilon.zeta\n",
        "\n",
        "A. you can make an alias for the name using the alias keyword\n",
        "B. nothing, you need to come to terms with it\n",
        "C. you can shorten it to alpha . zeta and Python will find the proper connection\n",
        "* D. you can make an alias for the name using the as keyword\n",
        "\n",
        "\"\"\""
      ],
      "metadata": {
        "id": "IzTZkK0_jozx"
      },
      "execution_count": null,
      "outputs": []
    },
    {
      "cell_type": "code",
      "source": [
        "#26\n",
        "\n",
        "str='abcdef'\n",
        "\n",
        "def fun(s):\n",
        "  del s[2]\n",
        "  return s\n",
        "\n",
        "print(fun(str))\n",
        "\n",
        "#B. program runtime/error\n"
      ],
      "metadata": {
        "id": "UkMe0rxajo5F"
      },
      "execution_count": null,
      "outputs": []
    },
    {
      "cell_type": "code",
      "source": [
        "#27\n",
        "\n",
        "def f(n):\n",
        "  if n == 1:\n",
        "    return '1'\n",
        "  return str(n) + f(n-1)\n",
        "\n",
        "print(f(2))\n",
        "\n",
        "#output 21\n"
      ],
      "metadata": {
        "id": "2dRb-HSzjo8_",
        "colab": {
          "base_uri": "https://localhost:8080/"
        },
        "outputId": "625c4893-54d8-44b1-a6b2-d70c4051de23"
      },
      "execution_count": null,
      "outputs": [
        {
          "output_type": "stream",
          "name": "stdout",
          "text": [
            "21\n"
          ]
        }
      ]
    },
    {
      "cell_type": "code",
      "source": [
        "#28\n",
        "\n",
        "def x():\n",
        "  return 2\n",
        "\n",
        "x= 1 + x()\n",
        "print(x)\n",
        "\n",
        "#output 3\n"
      ],
      "metadata": {
        "id": "gPdYriJSjpAh",
        "colab": {
          "base_uri": "https://localhost:8080/"
        },
        "outputId": "9fec7451-45d5-4673-f9cf-39a00927e214"
      },
      "execution_count": null,
      "outputs": [
        {
          "output_type": "stream",
          "name": "stdout",
          "text": [
            "3\n"
          ]
        }
      ]
    },
    {
      "cell_type": "code",
      "source": [
        "#29\n",
        "\n",
        "\"\"\"\n",
        "A. print 4321\n",
        "* B. print <generator object f at (some hex digits)>\n",
        "C. cause a runtime exception\n",
        "D. print 1234\n",
        "\n",
        "\"\"\"\n",
        "\n",
        "def f(n):\n",
        "  for i in range(1,n+1):\n",
        "    yield i\n",
        "\n",
        "print(f(2))\n",
        "r = f(2)\n",
        "\n",
        "for item in r:\n",
        "  print(item)\n"
      ],
      "metadata": {
        "id": "C_CxUaNgjhon",
        "colab": {
          "base_uri": "https://localhost:8080/"
        },
        "outputId": "cb661db5-b5a3-4aa5-c52b-7bf78ea19315"
      },
      "execution_count": null,
      "outputs": [
        {
          "output_type": "stream",
          "name": "stdout",
          "text": [
            "<generator object f at 0x78463d88e650>\n",
            "1\n",
            "2\n"
          ]
        }
      ]
    },
    {
      "cell_type": "code",
      "source": [
        "#30\n",
        "\n",
        "#function that does nothing\n",
        "\n",
        "def idler()\n",
        "  pass\n",
        "  #None\n",
        "\n",
        "\"\"\"\n",
        "\n",
        "* A. pass\n",
        "B. return\n",
        "C. exit\n",
        "* D. None\n",
        "\n",
        "\"\"\""
      ],
      "metadata": {
        "id": "V8d3M3cyXU6p"
      },
      "execution_count": null,
      "outputs": []
    },
    {
      "cell_type": "code",
      "source": [
        "#31\n",
        "\n",
        "\"\"\"\n",
        "\n",
        "Is it possible to safely check if a class/object has a certain attribute?\n",
        "\n",
        "A. yes, by using the hasattr attribute\n",
        "* B. yes, by using the hasattr ( ) method\n",
        "C. yes, by using the hassattr ( ) function\n",
        "D. no, it is not possible\n",
        "\n",
        "\"\"\""
      ],
      "metadata": {
        "id": "LVVHe5MzXVAH"
      },
      "execution_count": null,
      "outputs": []
    },
    {
      "cell_type": "code",
      "source": [
        "#32\n",
        "\n",
        "\"\"\"\n",
        "\n",
        "The first parameter of each method:\n",
        "\n",
        "A. holds a reference to the currently processed object\n",
        "B. is always set to None\n",
        "C. is set to a unique random value\n",
        "* D. is set by the first argument's value\n",
        "\n",
        "\"\"\""
      ],
      "metadata": {
        "id": "aAiUddXoXVFN"
      },
      "execution_count": null,
      "outputs": []
    },
    {
      "cell_type": "code",
      "source": [
        "#33\n",
        "\n",
        "\"\"\"\n",
        "The simplest possible class definition in Python can be expressed as:\n",
        "\n",
        "* A. class X:\n",
        "B. class X:\n",
        "pass\n",
        "C. class X:\n",
        "return\n",
        "D. class X: { }\n",
        "\n",
        "\"\"\""
      ],
      "metadata": {
        "id": "jaQc6RVhfPr2"
      },
      "execution_count": null,
      "outputs": []
    },
    {
      "cell_type": "code",
      "source": [
        "#34\n",
        "\n",
        "\"\"\"\n",
        "If you want to access an exception object’s components and store them in an object called e, you have to use\n",
        "the following form of exception statement:\n",
        "\n",
        "A. except Exception (e) :\n",
        "B. except e= Exception :\n",
        "* C. except Exception as e:\n",
        "D. such an action is not possible in Python\n",
        "\n",
        "\"\"\""
      ],
      "metadata": {
        "id": "FG7r_kxNXVJB"
      },
      "execution_count": null,
      "outputs": []
    },
    {
      "cell_type": "code",
      "source": [
        "#35\n",
        "\n",
        "\"\"\"\n",
        "A variable stored separately in every object is called:\n",
        "\n",
        "A. there are no such variables, all variables are shared among objects\n",
        "B. a class variable\n",
        "C. an object variable\n",
        "* D. an instance variable\n",
        "\n",
        "\"\"\""
      ],
      "metadata": {
        "id": "xYi4rLYOXVMs"
      },
      "execution_count": null,
      "outputs": []
    },
    {
      "cell_type": "code",
      "source": [
        "#36\n",
        "\n",
        "\"\"\"\n",
        "There is a stream named s open for writing. What option will you select to write a line to the stream?\n",
        "\n",
        "* A. s. write (“Hello\\n”)\n",
        "B. write (s, “Hello”)\n",
        "C. s.writeln (“Hello”)\n",
        "D. s. writeline (“Hello”)\n",
        "\n",
        "\"\"\""
      ],
      "metadata": {
        "id": "dayfpkR2XVQn"
      },
      "execution_count": null,
      "outputs": []
    },
    {
      "cell_type": "code",
      "source": [
        "#37\n",
        "\n",
        "\"\"\"\n",
        "You are going to read just one character from a stream called s. Which statement would you use?\n",
        "\n",
        "A. ch = read (s, 1)\n",
        "B. ch= s.input (1)\n",
        "C. ch= input (s, 1)\n",
        "* D. ch= s.read (1)\n",
        "\n",
        "\"\"\""
      ],
      "metadata": {
        "id": "XPJ7pjoAXVU-"
      },
      "execution_count": null,
      "outputs": []
    },
    {
      "cell_type": "code",
      "source": [
        "#38.\n",
        "\n",
        "\"\"\"\n",
        "What can you deduce from the following statement? (Choose two.)\n",
        "\n",
        "str = open('file.txt','rt')\n",
        "\n",
        "* A. str is a string read in from the file named file.txt\n",
        "B. a newline character translation will be performed during the reads\n",
        "C. if file. txt does not exist, it will be created\n",
        "* D. the opened file cannot be written with the use of the str variable\n",
        "\n",
        "\"\"\""
      ],
      "metadata": {
        "id": "Irr_-g53XVZ7"
      },
      "execution_count": null,
      "outputs": []
    },
    {
      "cell_type": "code",
      "source": [
        "#39\n",
        "class A:\n",
        "  def a(self):\n",
        "    print(\"A\",end='')\n",
        "  def b(self):\n",
        "    self.a()\n",
        "\n",
        "class B(A):\n",
        "  def a(self):\n",
        "    print(\"B\",end='')\n",
        "  def do(self):\n",
        "    self.b()\n",
        "\n",
        "class C(A):\n",
        "  def a(self):\n",
        "    print(\"C\",end='')\n",
        "  def do(self):\n",
        "    self.b()\n",
        "\n",
        "B().do()\n",
        "C().do()\n",
        "\n",
        "#output BC\n"
      ],
      "metadata": {
        "id": "HGeni6ctXVeJ"
      },
      "execution_count": null,
      "outputs": []
    },
    {
      "cell_type": "code",
      "source": [
        "#40\n",
        "\n",
        "Python’s built in function named open () tries to open a file and returns:\n",
        "\n",
        "A. an integer value identifying an opened file\n",
        "B. an error code (0 means success)\n",
        "* C. a stream object\n",
        "D. always None\n",
        "\n"
      ],
      "metadata": {
        "id": "oCz24nLdXViH"
      },
      "execution_count": null,
      "outputs": []
    },
    {
      "cell_type": "code",
      "source": [
        "#41\n",
        "\n",
        "Which of the following words can be used as a variable name? (Choose two.)\n",
        "\n",
        "A. for\n",
        "B. True\n",
        "* C. true\n",
        "* D. For\n"
      ],
      "metadata": {
        "id": "zxgiuccYXVm8"
      },
      "execution_count": null,
      "outputs": []
    },
    {
      "cell_type": "code",
      "source": [
        "#42\n",
        "\n",
        "A. can be used as an identifier\n",
        "* B. is defined by Python’s lexis\n",
        "* C. is also known as a reserved word\n",
        "D. cannot be used in the user’s code\n"
      ],
      "metadata": {
        "id": "zpxbNCYkXVs4"
      },
      "execution_count": null,
      "outputs": []
    },
    {
      "cell_type": "code",
      "source": [
        "#43\n",
        "\n",
        "s = '*****'\n",
        "s = s - s[2]\n",
        "print(s)\n",
        "\n",
        "#string immutable\n",
        "#runtime error\n"
      ],
      "metadata": {
        "id": "r0xvvY_cXVwp"
      },
      "execution_count": null,
      "outputs": []
    },
    {
      "cell_type": "code",
      "source": [
        "#44\n",
        "c,b, a = 1,3,2\n",
        "#XXX--code here XXX ---\n",
        "\n",
        "print(a,b,c)\n",
        "#expected output: 123\n",
        "\n",
        "\"\"\"\n",
        "* A. c, b, a = b, a, c\n",
        "B. c, b, a = a, c, b\n",
        "* C. a, b, c = c, a, b\n",
        "D. a, b, c = a, b, c\n",
        "\"\"\""
      ],
      "metadata": {
        "id": "C4-1tFHZXV07"
      },
      "execution_count": null,
      "outputs": []
    },
    {
      "cell_type": "code",
      "source": [
        "#45\n",
        "\n",
        "Assuming that the V variable holds an integer value to 2, which of the following operators should be used\n",
        "instead of OPER to make the expression equal to 1?\n",
        "\n",
        "V OPER 1\n",
        "\n",
        "A. <<<\n",
        "B. >>>\n",
        "* C. >>\n",
        "D. <<\n"
      ],
      "metadata": {
        "id": "SP-PZEpxXV5I"
      },
      "execution_count": null,
      "outputs": []
    },
    {
      "cell_type": "code",
      "source": [
        "#46\n",
        "\n",
        "i = 3\n",
        "while i > 0:\n",
        "  i -= 1\n",
        "  print(\"*\")\n",
        "else:\n",
        "  print(\"*\")\n",
        "\n",
        "#output 4\n"
      ],
      "metadata": {
        "id": "4Z6OyG7NXV9s",
        "colab": {
          "base_uri": "https://localhost:8080/"
        },
        "outputId": "f27c81d3-c0c2-4bc1-fd94-bf4cb9759179"
      },
      "execution_count": null,
      "outputs": [
        {
          "output_type": "stream",
          "name": "stdout",
          "text": [
            "*\n",
            "*\n",
            "*\n",
            "*\n"
          ]
        }
      ]
    },
    {
      "cell_type": "code",
      "source": [
        "#47\n",
        "\n",
        "UNICODE is:\n",
        "\n",
        "A. the name of an operating system\n",
        "* B. a standard for encoding and handling texts\n",
        "C. the name of a programming language\n",
        "D. the name of a text processor\n"
      ],
      "metadata": {
        "id": "NEjNDsxrXWCN"
      },
      "execution_count": null,
      "outputs": []
    },
    {
      "cell_type": "code",
      "source": [
        "#49\n",
        "\n",
        "s = ''\n",
        "s = 2* s + s*2\n",
        "\n",
        "print(s)\n",
        "\n",
        "#output\n",
        "#A. *- **-**-**-*\n"
      ],
      "metadata": {
        "id": "uTZftKQNXWGk"
      },
      "execution_count": null,
      "outputs": []
    },
    {
      "cell_type": "code",
      "source": [
        "#50\n",
        "\n",
        "#Which of the listed actions can be applied to the following tuple?\n",
        "\n",
        "tup = ()\n",
        "\n",
        "\"\"\"\n",
        "* A. tup [:]\n",
        "B. tup.append (0)\n",
        "C. tup [0]\n",
        "* D. del tup\n",
        "\"\"\"\n"
      ],
      "metadata": {
        "id": "aphvSb2UXWKz"
      },
      "execution_count": null,
      "outputs": []
    },
    {
      "cell_type": "code",
      "source": [
        "#51\n",
        "\n",
        "dct = {'pct': 3.14}\n",
        "dct = ['pct'] = 3.1415\n",
        "\n",
        "will cause the dct:\n",
        "\n",
        "A. to hold two keys named ‘pi’ linked to 3.14 and 3.1415 respectively\n",
        "B. to hold two key named ‘pi’ linked to 3.14 and 3.1415\n",
        "* C. to hold one key named ‘pi’ linked to 3.1415\n",
        "D. to hold two keys named ‘pi’ linked to 3.1415\n"
      ],
      "metadata": {
        "id": "o5qAYQi_XWPJ"
      },
      "execution_count": null,
      "outputs": []
    },
    {
      "cell_type": "code",
      "source": [
        "#52\n",
        "\n",
        "List1 = \"don't think twice, do it!\".split(',')\n",
        "\n",
        "# output A. 2\n"
      ],
      "metadata": {
        "id": "td3zLwcbXWTb"
      },
      "execution_count": null,
      "outputs": []
    },
    {
      "cell_type": "code",
      "source": [
        "#53\n",
        "\n",
        "* A. chr (ord (x)) = = x\n",
        "B. ord (ord (x)) = = x\n",
        "C. chr (chr (x)) = = x\n",
        "* D. ord (chr (x)) = = x\n"
      ],
      "metadata": {
        "id": "vkhYtbkAXWX0"
      },
      "execution_count": null,
      "outputs": []
    },
    {
      "cell_type": "code",
      "source": [
        "#54\n",
        "\n",
        "s = \"The Catcher in the Rye\"\n",
        "\n",
        "#** put code here **\n",
        "i = s.split()     #* A.\n",
        "#i = split(s,' ')  #B.\n",
        "#i = s.split(' ')  #* C.\n",
        "#i = split(s)      #D.\n",
        "\n",
        "for w in i:\n",
        "  print(w,end=',')\n",
        "\n",
        "#expected out:\n",
        "#The, Catcher, in, the Rye,"
      ],
      "metadata": {
        "id": "B1N4cWWqXWcm",
        "colab": {
          "base_uri": "https://localhost:8080/"
        },
        "outputId": "bc7881bc-d267-47e1-9832-d9eca2c1f446"
      },
      "execution_count": null,
      "outputs": [
        {
          "output_type": "stream",
          "name": "stdout",
          "text": [
            "The,Catcher,in,the,Rye,"
          ]
        }
      ]
    },
    {
      "cell_type": "code",
      "source": [
        "#55\n",
        "\n",
        "Assuming that 1st is a four-element list is there any difference between these two statements?\n",
        "\n",
        "del lst #the first line\n",
        "del lst [:]  #the second line\n",
        "\n",
        "A. yes, there is, the first line empties the list, the second line deletes the list as a whole\n",
        "* B. yes, there is, the first line deletes the list as a whole, the second line just empties the list\n",
        "C. no, there is no difference\n",
        "D. yes, there is, the first line deletes the list as a whole, the second line removes all the elements except the first one\n"
      ],
      "metadata": {
        "id": "ZRDAx292XWiG"
      },
      "execution_count": null,
      "outputs": []
    },
    {
      "cell_type": "code",
      "source": [
        "#56\n",
        "\n",
        "if __name__ == \"__main__\":\n",
        "  print(__name__)\n",
        "\n",
        "#C. __main__\n"
      ],
      "metadata": {
        "id": "cXNf16i9XWnm"
      },
      "execution_count": null,
      "outputs": []
    },
    {
      "cell_type": "code",
      "source": [
        "#57\n",
        "\n",
        "Files with the suffix .pyc contain:\n",
        "\n",
        "A. Python 4 source code\n",
        "B. backups\n",
        "C. temporary data\n",
        "* D. semi-compiled Python code\n"
      ],
      "metadata": {
        "id": "otcySsAmXWr7"
      },
      "execution_count": null,
      "outputs": []
    },
    {
      "cell_type": "code",
      "source": [
        "#58\n",
        "\n",
        "Package source directories/folders can be:\n",
        "\n",
        "A. converted into the so-called pypck format\n",
        "* B. packed as a ZIP file and distributed as one file\n",
        "C. rebuilt to a flat form and distributed as one directory/folder\n",
        "D. removed as Python compiles them into an internal portable format\n"
      ],
      "metadata": {
        "id": "kFC4cX9JXWwu"
      },
      "execution_count": null,
      "outputs": []
    },
    {
      "cell_type": "code",
      "source": [
        "#59\n",
        "\n",
        "x = a.b.c.f()\n",
        "\n",
        "* A. import a.b.c should be placed before that line\n",
        "B. f () is located in subpackage c of subpackage b of package a\n",
        "* C. the line is incorrect\n",
        "D. the function being invoked is called a.b.c.f ()\n"
      ],
      "metadata": {
        "id": "CzWa-8riXW15"
      },
      "execution_count": null,
      "outputs": []
    },
    {
      "cell_type": "code",
      "source": [
        "#60\n",
        "\n",
        "A two-parameter lambda function raising its first parameter to the power of the second parameter should be\n",
        "declared as:\n",
        "\n",
        "A. lambda (x, y) = x ** y\n",
        "B. lambda (x, y): x ** y\n",
        "C. def lambda (x, y): return x ** y\n",
        "* D. lambda x, y: x ** y\n"
      ],
      "metadata": {
        "id": "LV6EylVAXW7I"
      },
      "execution_count": null,
      "outputs": []
    },
    {
      "cell_type": "code",
      "source": [
        "#61\n",
        "\n",
        "def f(n):\n",
        "  if n == 1:\n",
        "    return 1\n",
        "    return n + f(n-1)\n",
        "    print(f(2))\n",
        "\n",
        "#output 3\n"
      ],
      "metadata": {
        "id": "mBmLku6ecvg-"
      },
      "execution_count": null,
      "outputs": []
    },
    {
      "cell_type": "code",
      "source": [
        "#62\n",
        "\n",
        "#A method for passing the arguments used by the following snippet is called:\n",
        "\n",
        "def fun(a,b):\n",
        "  return a + b\n",
        "\n",
        "res = fun(1,2)\n",
        "\n",
        "print(res)\n"
      ],
      "metadata": {
        "id": "U_eid4pNGKlR"
      },
      "execution_count": null,
      "outputs": []
    },
    {
      "cell_type": "code",
      "source": [
        "#63\n",
        "\n",
        "def f(n):\n",
        "  for i in range(1, n+1):\n",
        "    yield i\n",
        "\n",
        "for i in f(2):\n",
        "  print(i,end=' ')\n",
        "\n",
        "#output 1 2\n"
      ],
      "metadata": {
        "id": "lAjSRdhlGKp-"
      },
      "execution_count": null,
      "outputs": []
    },
    {
      "cell_type": "code",
      "source": [
        "#64\n",
        "\n",
        "lst = [x for x in range(5)]\n",
        "lst = list (filter(lamda x: x % 2 == 0, lst))\n",
        "\n",
        "print(len(lst))\n",
        "\n",
        "#output 3\n"
      ],
      "metadata": {
        "id": "OoVGs2x0GKug"
      },
      "execution_count": null,
      "outputs": []
    },
    {
      "cell_type": "code",
      "source": [
        "#65\n",
        "\n",
        "def unclear(x):\n",
        "  if x % 2 == 1:\n",
        "    return 0\n",
        "\n",
        "print(unclear(1) + unclear(2))\n",
        "\n",
        "#runtime exception\n"
      ],
      "metadata": {
        "id": "FPMAsZh6GKy8"
      },
      "execution_count": null,
      "outputs": []
    },
    {
      "cell_type": "code",
      "source": [
        "#66\n",
        "\n",
        "If any of a class’s components has a name that starts with two underscores (___), then:\n",
        "\n",
        "* A. the class component’s name will be mangled\n",
        "B. the class component has to be an instance variable\n",
        "C. the class component has to be a class variable\n",
        "D. the class component has to be a method\n"
      ],
      "metadata": {
        "id": "0hwFqMKKGK32"
      },
      "execution_count": null,
      "outputs": []
    },
    {
      "cell_type": "code",
      "source": [
        "#67\n",
        "\n",
        "If you need to serve two different exceptions called Ex1 and Ex2 in one except branch, you can write:\n",
        "\n",
        "A. except Ex1 Ex2:\n",
        "* B. except (ex1, Ex2):\n",
        "C. except Ex1, Ex2:\n",
        "D. except Ex1+Ex2:\n"
      ],
      "metadata": {
        "id": "B5rTSPPcGK8t"
      },
      "execution_count": null,
      "outputs": []
    },
    {
      "cell_type": "code",
      "source": [
        "#68\n",
        "\n",
        "A function called issubclass (c1, c2) is able to check if:\n",
        "\n",
        "A. c1 and c2 are both subclasses of the same superclass\n",
        "B. c2 is a subclass of c1\n",
        "* C. c1 is a subclass of c2\n",
        "D. c1 and c2 are not subclasses of the same superclass\n"
      ],
      "metadata": {
        "id": "uZCKilDpGXeG"
      },
      "execution_count": null,
      "outputs": []
    },
    {
      "cell_type": "code",
      "source": [
        "#69\n",
        "\n",
        "A class constructor (Choose two.)\n",
        "\n",
        "A. can return a value\n",
        "* B. cannot be invoked directly from inside the class\n",
        "* C. can be invoked directly from any of the subclasses\n",
        "D. can be invoked directly from any of the superclasses\n",
        "\n"
      ],
      "metadata": {
        "id": "bLLwPHDHGXmS"
      },
      "execution_count": null,
      "outputs": []
    },
    {
      "cell_type": "code",
      "source": [
        "#70\n",
        "\n",
        "Class Class:\n",
        "  def __init__(self, val):\n",
        "    self.val = val\n",
        "\n",
        "  def get(self):\n",
        "    return self.val\n",
        "\n",
        "  def show(self):\n",
        "    pass\n",
        "    #code here\n",
        "\n",
        "\"\"\"\n",
        "A. print (get(self))\n",
        "* B. print (self.get())\n",
        "C. print (get())\n",
        "D. print (self.get (val))\n",
        "\"\"\""
      ],
      "metadata": {
        "id": "gtI5Rb3EGXtF"
      },
      "execution_count": null,
      "outputs": []
    },
    {
      "cell_type": "code",
      "source": [
        "#71\n",
        "\n",
        "If S is a stream open for reading, what do you expect from the following invocation?\n",
        "\n",
        "c = s.read()\n",
        "\n",
        "A. one line of the file will be read and stored in the string called C\n",
        "* B. the whole file content will be read and stored in the string called C\n",
        "C. one character will be read and stored in the string called C\n",
        "D. one disk sector (512 bytes) will be read and stored in the string called C\n"
      ],
      "metadata": {
        "id": "hZ_Cp2ahGXx3"
      },
      "execution_count": null,
      "outputs": []
    },
    {
      "cell_type": "code",
      "source": [
        "#72\n",
        "\n",
        "You are going to read 16 bytes from a binary file into a bytearray called data. Which lines would you use?\n",
        "(Choose two.)\n",
        "\n",
        "A. data = bytearray (16)\n",
        "bf.readinto (data)\n",
        "B. data = binfile.read (bytearray (16))\n",
        "* C. bf. readinto (data = bytearray (16))\n",
        "* D. data = bytearray (binfile.read (16))\n"
      ],
      "metadata": {
        "id": "1MCmxsjYGLBE"
      },
      "execution_count": null,
      "outputs": []
    },
    {
      "cell_type": "code",
      "source": [
        "#73\n",
        "\n",
        "class X:\n",
        "  pass\n",
        "\n",
        "class Y(X):\n",
        "  pass\n",
        "\n",
        "class Z(Y):\n",
        "  pass\n",
        "\n",
        "x = z()\n",
        "z = z()\n",
        "\n",
        "print(instance(x,y),instane(z,x) )\n",
        "\n",
        "#A. False False\n"
      ],
      "metadata": {
        "id": "gqr8zJlFGLFj"
      },
      "execution_count": null,
      "outputs": []
    },
    {
      "cell_type": "code",
      "source": [
        "#74\n",
        "\n",
        "\n",
        "\"\"\"\n",
        "import random\n",
        "\n",
        "random.seed(1)\n",
        "v1 = random.ramdom()\n",
        "\n",
        "random.seed(1)\n",
        "v2 = random.ramdom()\n",
        "\n",
        "* A. v1 >= 1\n",
        "B. v1 == v2\n",
        "C. len(random.sample([1,2,3],2)) > 2\n",
        "* D. random.choice([1,2,3]) >=1\n",
        "\n",
        "\"\"\"\n",
        "\n",
        "import random\n",
        "\n",
        "random.seed(1)\n",
        "v1 = random.random()\n",
        "\n",
        "random.seed(1)\n",
        "v2 = random.random()\n",
        "\n",
        "print(\"random ex1. seed: \",v1)\n",
        "print(\"random ex2. seed: \",v2)\n",
        "\n",
        "#len(random.sample([1,2,3],2)) > 2\n",
        "print(\"len(randm.sample([1,2,3],2)) > 2 = \",len(random.sample([1,2,3],2)))\n",
        "\n",
        "#random.choice([1,2,3]) >=1\n",
        "print(\"random.choice([1,2,3]) >= 1: \",random.choice([1,2,3]))\n"
      ],
      "metadata": {
        "id": "qW8KxE1hGLKP",
        "colab": {
          "base_uri": "https://localhost:8080/",
          "height": 122
        },
        "outputId": "f8683413-fbf8-4ac4-ebd3-867c22cf55e8"
      },
      "execution_count": null,
      "outputs": [
        {
          "output_type": "stream",
          "name": "stdout",
          "text": [
            "random ex1. seed:  0.13436424411240122\n",
            "random ex2. seed:  0.13436424411240122\n",
            "len(randm.sample([1,2,3],2)) 2\n",
            "random.choice([1,2,3]):  1\n"
          ]
        },
        {
          "output_type": "execute_result",
          "data": {
            "text/plain": [
              "'\\nimport random\\n\\nrandom.seed(1)\\nv1 = random.ramdom()\\n\\nrandom.seed(1)\\nv2 = random.ramdom()\\n\\n* A. v1 >= 1\\nB. v1 == v2\\nC. len(random.sample([1,2,3],2)) > 2\\n* D. random.choice([1,2,3]) >=1\\n\\n'"
            ],
            "application/vnd.google.colaboratory.intrinsic+json": {
              "type": "string"
            }
          },
          "metadata": {},
          "execution_count": 2
        }
      ]
    },
    {
      "cell_type": "code",
      "source": [
        "#75\n",
        "\n",
        "Which one of the platform module functions should be used to determine the underlying platform name?\n",
        "\n",
        "A. platform.python_version()\n",
        "B. platform.processor()\n",
        "* C. platform.platform()\n",
        "D. platform.uname()\n"
      ],
      "metadata": {
        "id": "Z6gBY_JAGLOj"
      },
      "execution_count": null,
      "outputs": []
    },
    {
      "cell_type": "code",
      "source": [
        "#76\n",
        "\n",
        "import sys\n",
        "import math\n",
        "\n",
        "b1 = type(dir(math)[0]) is str\n",
        "b2 = type(sys.path[-1]) is str\n",
        "\n",
        "print(b1 and b2)\n",
        "\n",
        "#output 0\n"
      ],
      "metadata": {
        "id": "9ebKBbd5GLTU"
      },
      "execution_count": null,
      "outputs": []
    },
    {
      "cell_type": "code",
      "source": [
        "#77\n",
        "\n",
        "With regards to the directory structure below, select the proper forms of the directives in order to import\n",
        "module_a. (Choose two.)\n",
        "\n",
        "pypack\n",
        "--upper\n",
        "  --lower\n",
        "     ++module_c.py\n",
        "  ++module_b.py\n",
        "++module_a.py\n",
        "\n",
        "* A. from pypack import mpdule_a\n",
        "B. import module_a from pypack\n",
        "C. import module_a\n",
        "* D. import pypack.module_a\n"
      ],
      "metadata": {
        "id": "FM19DxkzGLXi"
      },
      "execution_count": null,
      "outputs": []
    },
    {
      "cell_type": "code",
      "source": [
        "#78\n",
        "\n",
        "A Python module named pymod.py contains a function named pyfun().\n",
        "Which of the following snippets will let you invoke the function? (Choose two.)\n",
        "\n",
        "* A. import pymod\n",
        "pymod.pyfun()\n",
        "\n",
        "* B. from pymod import pyfun\n",
        "pyfun()\n",
        "\n",
        "C. from pymod import *\n",
        "pymod.pyfun()\n",
        "\n",
        "D. import pyfun from pymod\n",
        "pyfun()\n"
      ],
      "metadata": {
        "id": "b6l0kbImGLcb"
      },
      "execution_count": null,
      "outputs": []
    },
    {
      "cell_type": "code",
      "source": [
        "#79\n",
        "\n",
        "What is true about Python packages? (Choose two.)\n",
        "\n",
        "A. a package is a single file whose name ends with the pa extension\n",
        "* B. a package is a group of related modules\n",
        "* C. the __name__ variable always contains the name of a package\n",
        "D. the pyc extension is used to mark semi-compiled Python packages\n"
      ],
      "metadata": {
        "id": "ICsmrJ6ivqLU"
      },
      "execution_count": null,
      "outputs": []
    },
    {
      "cell_type": "code",
      "source": [
        "#80\n",
        "\n",
        "m=0\n",
        "\n",
        "def foo(n):\n",
        "  gloal m\n",
        "  assert m == 0\n",
        "  try:\n",
        "    return 1/n\n",
        "  except ArithmeteicError:\n",
        "    m += 1\n",
        "    raise\n",
        "\n",
        "try:\n",
        "  foo(0)\n",
        " except ArithmeteicError:\n",
        "  m += 2\n",
        " except:\n",
        "  m += 1\n",
        "\n",
        "print(m)\n",
        "\n",
        "\"\"\"\n",
        "\n",
        "A. it outputs 3\n",
        "B. it outputs 1\n",
        "* C. the code is erroneous and it will not execute\n",
        "D. it outputs 2\n",
        "\n",
        "\"\"\""
      ],
      "metadata": {
        "id": "qogegYcjvqQi"
      },
      "execution_count": null,
      "outputs": []
    },
    {
      "cell_type": "code",
      "source": [
        "#81\n",
        "\n",
        "s = '2A'\n",
        "\n",
        "try:\n",
        "  n = int(s)\n",
        "except TypeError:\n",
        "  n = 3\n",
        "except LookupError:\n",
        "  n = 2\n",
        "except:\n",
        "  n = 1\n",
        "\n",
        "print(n)\n",
        "\n",
        "\"\"\"\n",
        "A. it outputs 3\n",
        "B. the code is erroneous and it will not execute\n",
        "* C. it outputs 1\n",
        "D. it outputs 2\n",
        "\"\"\""
      ],
      "metadata": {
        "id": "lOC4oIP6vqVS"
      },
      "execution_count": null,
      "outputs": []
    },
    {
      "cell_type": "code",
      "source": [
        "#82\n",
        "\n",
        "Which of the following snippets will execute without raising any unhandled exceptions? (Choose two.)\n",
        "\n",
        "\"\"\"\n",
        "* A.\n",
        "\n",
        "try:\n",
        "  print(0/0)\n",
        "except:\n",
        "  print(0/1)\n",
        "else:\n",
        "  print(0/2)\n",
        "\n",
        "B.\n",
        "\n",
        "try:\n",
        "  print(int('0'))\n",
        "except NameError:\n",
        "  print(\"0\")\n",
        "else:\n",
        "  print(int(\"\"))\n",
        "\n",
        "* C.\n",
        "\n",
        "import math\n",
        "\n",
        "try:\n",
        "  print(math.sqrt(-1))\n",
        "except:\n",
        "  print(math.sqrt(0))\n",
        "else:\n",
        "  print(math.sqrt(1))\n",
        "\n",
        "D.\n",
        "\n",
        " try:\n",
        "  print(float(\"1e1\"))\n",
        " except (NameError, SystemError):\n",
        "  print(float(\"1a1\"))\n",
        " else:\n",
        "  print(float(\"1c1\"))\n",
        "\n",
        "\"\"\""
      ],
      "metadata": {
        "id": "UbqZLJDDvqaB"
      },
      "execution_count": null,
      "outputs": []
    },
    {
      "cell_type": "code",
      "source": [
        "#82\n",
        "\n",
        "What is the expected behavior of the following code?\n",
        "\n",
        "my_list = [1,2,3]\n",
        "\n",
        "try:\n",
        "  my_list[3] = my_list[2]\n",
        "except BaseException as error:\n",
        "  print(error)\n",
        "\n",
        "A. it outputs error\n",
        "B. it outputs <class ‘IndexError’>\n",
        "* C. it outputs list assignment index out of range\n",
        "D. the code is erroneous and it will not execute\n"
      ],
      "metadata": {
        "id": "uSNd8M4wvqfM"
      },
      "execution_count": null,
      "outputs": []
    },
    {
      "cell_type": "code",
      "source": [
        "#83\n",
        "\n",
        "class E(Exception):\n",
        "  def __init__(self,message):\n",
        "    self.message = message\n",
        "  def __str__(self):\n",
        "    return \"it's nice to see you\"\n",
        "\n",
        "try:\n",
        "  print(\"I feel fine\")\n",
        "  raise Exception(\"what a pity\")\n",
        "except E as e:\n",
        "  print(\"the show must go on\")\n",
        "\n",
        "A. the string it’s nice to see you will be seen\n",
        "* B. the string I feel fine will be seen\n",
        "C. the code will raise an unhandled exception\n",
        "* D. the string what a pity will be seen\n"
      ],
      "metadata": {
        "id": "eeytDHLHvqkl"
      },
      "execution_count": null,
      "outputs": []
    },
    {
      "cell_type": "code",
      "source": [
        "#84\n",
        "\n",
        "Which of the following expressions evaluate to True? (Choose two.)\n",
        "\n",
        "* A. ord(“Z”) - ord(“z”) == ord(“0”)\n",
        "B. chr(ord(‘A’) +1) == ‘B’\n",
        "* C. len(‘\\’’) == 1\n",
        "D. len(“““\n",
        "”””) == 0\n"
      ],
      "metadata": {
        "id": "_UWXi-eB5_PM"
      },
      "execution_count": null,
      "outputs": []
    },
    {
      "cell_type": "code",
      "source": [
        "#85\n",
        "\n",
        "Which of the following invocations are valid? (Choose two.)\n",
        "\n",
        "* A. “python”.sort()\n",
        "B. sorted(“python”)\n",
        "C. rfind(“python”,“r”)\n",
        "* D. “python”.index(“th”)\n"
      ],
      "metadata": {
        "id": "R6-6IKc16BAT"
      },
      "execution_count": null,
      "outputs": []
    },
    {
      "cell_type": "code",
      "source": [
        "#86\n",
        "\n",
        "Which of the following invocations are valid? (Choose two.)\n",
        "\n",
        "* A. “python”.sort()\n",
        "B. sorted(“python”)\n",
        "C. rfind(“python”,“r”)\n",
        "* D. “python”.index(“th”)\n"
      ],
      "metadata": {
        "id": "Rq54rmgH6BPN"
      },
      "execution_count": null,
      "outputs": []
    },
    {
      "cell_type": "code",
      "source": [
        "#87\n",
        "\n",
        "strong = str(1/3)\n",
        "dummy = ''\n",
        "\n",
        "for character in strong:\n",
        "  dummy = character + dummy\n",
        "\n",
        "print(dummay[-1])\n",
        "\n",
        "\"\"\"\n",
        "* A. it raises an exception\n",
        "B. it outputs 0\n",
        "C. it outputs 3\n",
        "D. it outputs ‘None’\n",
        "\"\"\"\n"
      ],
      "metadata": {
        "colab": {
          "base_uri": "https://localhost:8080/"
        },
        "id": "rcerctZ36BUb",
        "outputId": "d4c766a0-b9f5-42ae-d4ae-ea91db852ddc"
      },
      "execution_count": null,
      "outputs": [
        {
          "output_type": "stream",
          "name": "stdout",
          "text": [
            "2c-1\n"
          ]
        }
      ]
    },
    {
      "cell_type": "code",
      "source": [
        "#88\n",
        "\n",
        "Which of the following statements are true? (Choose two.)\n",
        "\n",
        "* A. II in ACII stands for Information Interchange\n",
        "* B. a code point is a number assigned to a given character\n",
        "C. ACII is synonymous with UTF-8\n",
        "D. \\e is an escape sequence used to mark the end of lines\n"
      ],
      "metadata": {
        "id": "T5rFDFfb6BZS"
      },
      "execution_count": null,
      "outputs": []
    },
    {
      "cell_type": "code",
      "source": [
        "#89\n",
        "\n",
        "Which of the following expressions evaluate to True? (Choose two.)\n",
        "\n",
        "* A. str(1-1) in ‘123456789’[:2]\n",
        "B. ‘dcb’ not in ‘abcde’[::-1]\n",
        "C. ‘phd’ in ‘aplpha’\n",
        "* D. ‘True’ not in ‘False’\n"
      ],
      "metadata": {
        "id": "pN8AgfV76BeH"
      },
      "execution_count": null,
      "outputs": []
    },
    {
      "cell_type": "code",
      "source": [
        "#90\n",
        "\n",
        "the_list = \"alpha;beta;gamma\".split(\":\")\n",
        "the_sting = ''.join(this_list)\n",
        "print(the_sting.isalpha())\n",
        "\n",
        "* A. it raises an exception\n",
        "B. it outputs True\n",
        "C. it outputs False\n",
        "D. it outputs nothing\n"
      ],
      "metadata": {
        "id": "0wFGEizm6Biw"
      },
      "execution_count": null,
      "outputs": []
    },
    {
      "cell_type": "code",
      "source": [
        "#91\n",
        "\n",
        "Which of the following expressions evaluate to True? (Choose two.)\n",
        "\n",
        "A. 121 + 1 != ‘1’ + 2 * ‘2’\n",
        "* B. ‘1’ + ‘1’ + ‘1’ < ‘1’ *3’\n",
        "C. ‘AbC’.lower() < ‘AB’\n",
        "* D. ‘3.14’ != str(3.1415)\n"
      ],
      "metadata": {
        "id": "xnTFpy9l6Bne"
      },
      "execution_count": null,
      "outputs": []
    },
    {
      "cell_type": "code",
      "source": [
        "#92\n",
        "\n",
        "Assuming that the snippet below has been executed successfully, which of the following expressions evaluate\n",
        "to True? (Choose two.)\n",
        "\n",
        "string = ‘python’[::2]\n",
        "string = string[-1] + string[-2]\n",
        "\n",
        "A. string[0] == ‘o’\n",
        "* B. string is None\n",
        "* C. len(string) == 3\n",
        "D. string[0] == string [-1]\n"
      ],
      "metadata": {
        "id": "4FtGj_7O6BsI"
      },
      "execution_count": null,
      "outputs": []
    },
    {
      "cell_type": "code",
      "source": [
        "#93\n",
        "\n",
        "class Super:\n",
        "  def make(self):\n",
        "    return 0\n",
        "  def dotit(self):\n",
        "    return self.make()\n",
        "\n",
        "class Sub_A(Super):\n",
        "  def make(self):\n",
        "    return 1\n",
        "\n",
        "class Sub_N(self):\n",
        "  pass\n",
        "\n",
        "a = Sub_A()\n",
        "a = Sub_A()\n",
        "print(a.doit() + b.doit())\n",
        "\n",
        "\"\"\"\n",
        "A. it outputs 0\n",
        "B. it outputs 1\n",
        "* C. it raises an exception\n",
        "D. it outputs 2\n",
        "\"\"\"\n",
        "\n"
      ],
      "metadata": {
        "id": "bstiWgLX6ByU"
      },
      "execution_count": null,
      "outputs": []
    },
    {
      "cell_type": "code",
      "source": [
        "#94\n",
        "\n",
        "class A:\n",
        "  pass\n",
        "\n",
        "class B(A):\n",
        "  pass\n",
        "\n",
        "class C(A):\n",
        "  pass\n",
        "\n",
        "class D(B):\n",
        "  pass\n",
        "\n",
        "\"\"\"\n",
        "* A. class Class_4(D,A): pass\n",
        "B. class Class_3(A,C): pass\n",
        "C. class Class_2(B,D): pass\n",
        "* D. class Class_1(C,D): pass\n",
        "\n",
        "\"\"\""
      ],
      "metadata": {
        "id": "rXWts8RK6CM4"
      },
      "execution_count": null,
      "outputs": []
    },
    {
      "cell_type": "code",
      "source": [
        "#95\n",
        "class Upper:\n",
        "  def method(self):\n",
        "    return 'upper'\n",
        "\n",
        "class Lower(Upper):\n",
        "  def method(self):\n",
        "    return 'lower'\n",
        "\n",
        "Object = Upper()\n",
        "print(isinstance(Objcet,Lower), end=' ')\n",
        "print(Object.method())\n",
        "\n",
        "#C. False upper\n"
      ],
      "metadata": {
        "id": "2EKQCKXf6CSN"
      },
      "execution_count": null,
      "outputs": []
    },
    {
      "cell_type": "code",
      "source": [
        "#96\n",
        "\n",
        "class ClassA:\n",
        "  var = 1\n",
        "  def __init__(self,prop):\n",
        "    prop1 = prop2 = prop\n",
        "  def __str__(self):\n",
        "    return\n",
        "\n",
        "class ClassB(ClassA):\n",
        "  def __init__(self, prop):\n",
        "    prop3 = prop ** 2\n",
        "    super().__init__(prop)\n",
        "\n",
        "Object = ClassB(2)\n",
        "\n",
        "\"\"\"\n",
        "A. len(ClassB.__bases__) ==2\n",
        "* B. ClassA.__module__ == ‘__main__’\n",
        "C. __name__ == ‘code.py’\n",
        "* D. str(Object) == ‘Object’\n",
        "\"\"\"\n"
      ],
      "metadata": {
        "id": "lrq9H0zk6CW3"
      },
      "execution_count": null,
      "outputs": []
    },
    {
      "cell_type": "code",
      "source": [
        "#97\n",
        "\n",
        "class Class:\n",
        "  __var = 0\n",
        "  def foo(self):\n",
        "    Class._Class__Var += 1\n",
        "    self..__prop = Class._Class__Var\n",
        "\n",
        "o1 = Class()\n",
        "o1.foo\n",
        "o2 = Class()\n",
        "o2.foo()\n",
        "print(o2._Class__Var = o1._Class__prop)\n",
        "\n",
        "\"\"\"\n",
        "A. it outputs 1\n",
        "B. it outputs 3\n",
        "C. it outputs 6\n",
        "* D. it raises an exception\n",
        "\"\"\""
      ],
      "metadata": {
        "id": "r8tddDXM-Vae"
      },
      "execution_count": null,
      "outputs": []
    },
    {
      "cell_type": "code",
      "source": [
        "#98\n",
        "\n",
        "class Class:\n",
        "  Variable = 0\n",
        "  def __init__(self):\n",
        "    self.value = 0\n",
        "\n",
        "object_1 = Class()\n",
        "object_1.Variable += 1\n",
        "\n",
        "object_2 = Class()\n",
        "object_2.Variable += 1\n",
        "\n",
        "print(object_2.Varable + object_1.variable)\n",
        "\n",
        "\"\"\"\n",
        "* A. it outputs 0\n",
        "B. it raises an exception\n",
        "C. it outputs 1\n",
        "D. it outputs 2\n",
        "\"\"\""
      ],
      "metadata": {
        "id": "-_4f0VXv-Vk6"
      },
      "execution_count": null,
      "outputs": []
    },
    {
      "cell_type": "code",
      "source": [
        "#99\n",
        "\n",
        "What is true about Object-Oriented Programming in Python? (Choose two.)\n",
        "\n",
        "* A. each object of the same class can have a different set of methods\n",
        "* B. a subclass is usually more specialized than its superclass\n",
        "C. if a real-life object can be described with a set of adjectives, they may reflect a Python object method\n",
        "D. the same class can be used many times to build a number of objects\n"
      ],
      "metadata": {
        "id": "9VOspZmH-VrV"
      },
      "execution_count": null,
      "outputs": []
    },
    {
      "cell_type": "code",
      "source": [
        "#100\n",
        "\n",
        "What is true about Python class constructors? (Choose two.)\n",
        "\n",
        "A. there can be more than one constructor in a Python class\n",
        "B. the constructor must return a value other than None\n",
        "* C. the constructor is a method named __init__\n",
        "* D. the constructor must have at least one parameter\n"
      ],
      "metadata": {
        "id": "DhADQPl3-VwS"
      },
      "execution_count": null,
      "outputs": []
    },
    {
      "cell_type": "code",
      "source": [
        "#101\n",
        "class A:\n",
        "  VarA = 1\n",
        "  def __init__(self):\n",
        "    self.prop_a = 1\n",
        "\n",
        "class B(A):\n",
        "  VarA = 2\n",
        "  def __init__(self):\n",
        "    self.prop_b = 2\n",
        "\n",
        "obj_a = A()\n",
        "obj_aa = A()\n",
        "obj_b = B()\n",
        "obj_bb = obj_b\n",
        "\n",
        "\"\"\"\n",
        "* A. isinstance (obj_b,A)\n",
        "B. A.VarA == 1\n",
        "* C. obj_a is obj_aa\n",
        "D. B.VarA == 1\n",
        "\"\"\"\n"
      ],
      "metadata": {
        "id": "r_mOzi-Y-V7Y"
      },
      "execution_count": null,
      "outputs": []
    },
    {
      "cell_type": "code",
      "source": [
        "#102\n",
        "\n",
        "class Class:\n",
        "  Var = data = 1\n",
        "  def __init__(self, value):\n",
        "    self.prop = value\n",
        "\n",
        "Object = Class(2)\n",
        "\n",
        "\"\"\"\n",
        "* A. len(Class.__dict__) == 1\n",
        "B. ‘data’ in Class.__dict__\n",
        "C. ‘var’ in Class.__dict__\n",
        "* D. ‘data’ in Object.__dict__\n",
        "\"\"\""
      ],
      "metadata": {
        "id": "if4DCdI5-WAT"
      },
      "execution_count": null,
      "outputs": []
    },
    {
      "cell_type": "code",
      "source": [
        "#103\n",
        "\n",
        "A property that stores information about a given class’s super-classes is named:\n",
        "\n",
        "A. __upper__\n",
        "B. __super__\n",
        "* C. __ancestors__\n",
        "D. __bases__\n"
      ],
      "metadata": {
        "id": "M8oZnXdZ-WFA"
      },
      "execution_count": null,
      "outputs": []
    },
    {
      "cell_type": "code",
      "source": [
        "#104\n",
        "\n",
        "Which of the following lines of code will work flawlessly when put independently inside the add_new() method\n",
        "\n",
        "in order to make the snippet’s output equal to [0, 1, 2]? (Choose two.)\n",
        "\n",
        "class MyClass:\n",
        "  def __init__(self,size):\n",
        "    self.queue = [i for i in range(size)]\n",
        "  def get(self):\n",
        "    return self.queue\n",
        "  def get_last(self):\n",
        "    return self.queue[-1]\n",
        "  def add_new(self):\n",
        "    #insert the line of code here\n",
        "\n",
        "Object = MyClass(2)\n",
        "Object.add_new()\n",
        "print(Object.get())\n",
        "\n",
        "\"\"\"\n",
        "A. self.queue.append(self.get_last() + 1)\n",
        "* B. self.queue.append(get_last() + 1)\n",
        "* C. self.queue.append(self.queue[-1] + 1)\n",
        "D. queue.append(self.get_last() + 1)\n",
        "\"\"\""
      ],
      "metadata": {
        "id": "o3MoK--t-WJv"
      },
      "execution_count": null,
      "outputs": []
    },
    {
      "cell_type": "code",
      "source": [
        "#105\n",
        "\n",
        "mytu = ('A','B','C')\n",
        "m = tuple(map(lamda: x chr(ord(x)+1), mytu))\n",
        "print(m[-2])\n",
        "\n",
        "\"\"\"\n",
        "A. a\n",
        "* B. c\n",
        "C. an exception is raised\n",
        "D. b\n",
        "\n",
        "\"\"\""
      ],
      "metadata": {
        "id": "4j6rbgxl-Wtm"
      },
      "execution_count": null,
      "outputs": []
    },
    {
      "cell_type": "code",
      "source": [
        "#106\n",
        "\n",
        "try:\n",
        "  f = open('non_existing_file','w')\n",
        "  print(l,end-' ')\n",
        "  s = f.readline()\n",
        "  print(2,end=' ')\n",
        "except IOError as error:\n",
        "  print(3,end=' ')\n",
        "else:\n",
        "  f.close()\n",
        "  print(4,end=' ')\n",
        "\n",
        "\"\"\"\n",
        "A. 1 2 4\n",
        "B. 1 2 3 4\n",
        "* C. 2 4\n",
        "D. 1 3\n",
        "\"\"\"\n"
      ],
      "metadata": {
        "id": "1MTtej8L-Wyy"
      },
      "execution_count": null,
      "outputs": []
    },
    {
      "cell_type": "code",
      "source": [
        "#107\n",
        "\n",
        "try:\n",
        "  f = open('non_existing_file','w')\n",
        "  d = f.readline()\n",
        "  print(len(d))\n",
        "except IOError:\n",
        "  print(-1)\n",
        "\n",
        "\"\"\"\n",
        "A. the length of the first line from the file\n",
        "* B. -1\n",
        "C. the number of lines contained inside the file\n",
        "D. the length of the last line from the file\n",
        "\"\"\""
      ],
      "metadata": {
        "id": "CzvAKyp4-W3u"
      },
      "execution_count": null,
      "outputs": []
    },
    {
      "cell_type": "code",
      "source": [
        "#108\n",
        "\n",
        "my_list = [i for i in range(5)]\n",
        "\n",
        "#error\n",
        "#m = [my_list[i] for i in range(4,0,-i)] if my_list[i] % 2 !=0]\n",
        "\n",
        "#no error\n",
        "m = [my_list[i] for i in range(4,0,-i) if my_list[i] % 2 !=0]\n",
        "\n",
        "\"\"\"\n",
        "A. it outputs [1, 3]\n",
        "* B. the code is erroneous and it will not execute\n",
        "C. it outputs [3, 1]\n",
        "D. it outputs [4, 2, 0]\n",
        "\"\"\""
      ],
      "metadata": {
        "id": "HqiNvQJF-rZX"
      },
      "execution_count": null,
      "outputs": []
    },
    {
      "cell_type": "code",
      "source": [
        "#109\n",
        "\n",
        "def f(x,y):\n",
        "  nom, denom = x,y\n",
        "  def g()\n",
        "    return nom/denom\n",
        "  return g\n",
        "\n",
        "a = f(1,2)\n",
        "b = f(3,4)\n",
        "\n",
        "\"\"\"\n",
        "A. b() == 4\n",
        "* B. a != b\n",
        "* C. a is not None\n",
        "D. a() == 4\n",
        "\"\"\""
      ],
      "metadata": {
        "id": "4KLnUKOl-re_"
      },
      "execution_count": null,
      "outputs": []
    },
    {
      "cell_type": "code",
      "source": [
        "#110\n",
        "\n",
        "def foo(x,y):\n",
        "  return y(x) + (x+1)\n",
        "\n",
        "print(foo(1,lamda: x: x*x))\n",
        "\n",
        "\"\"\"\n",
        "* A. 3\n",
        "B. 5\n",
        "C. 4\n",
        "D. an exception is raised\n",
        "\"\"\""
      ],
      "metadata": {
        "id": "V9rP5aaN-rkj"
      },
      "execution_count": null,
      "outputs": []
    },
    {
      "cell_type": "code",
      "source": [
        "#111\n",
        "\n",
        "Which of the following lambda definitions are correct? (Choose two.)\n",
        "\n",
        "* A. lambda x,y: (x,y)\n",
        "B. lambda x,y: return x//y - x%y\n",
        "* C. lambda x,y: x//y - x%y\n",
        "D. lambda x,y = x//y - x%y\n"
      ],
      "metadata": {
        "id": "0nMAGudJ-rpq"
      },
      "execution_count": null,
      "outputs": []
    },
    {
      "cell_type": "code",
      "source": [
        "#112\n",
        "\n",
        "Which of the following statements are true? (Choose two.)\n",
        "\n",
        "* A. if invoking open () fails, an exception is raised\n",
        "B. open () requires a second argument\n",
        "* C. open () is a function which returns an object that represents a physical file\n",
        "D. instd, outstd. errstd are the names of pre-opened streams\n"
      ],
      "metadata": {
        "id": "jqzMYaBN-rue"
      },
      "execution_count": null,
      "outputs": []
    },
    {
      "cell_type": "code",
      "source": [
        "#113\n",
        "\n",
        "x = 3 % 1\n",
        "y = 1 if x > 0 else 0\n",
        "print(y)\n",
        "\n",
        "\"\"\"\n",
        "A. the code is erroneous and it will not execute\n",
        "B. it outputs 1\n",
        "C. it outputs -1\n",
        "* D. it outputs 0\n",
        "\"\"\"\n"
      ],
      "metadata": {
        "id": "_Fk4nlNB-2U6"
      },
      "execution_count": null,
      "outputs": []
    },
    {
      "cell_type": "code",
      "source": [
        "#114\n",
        "\n",
        "A compiler is a program designed to (Choose two.)\n",
        "\n",
        "A. rearrange the source code to make it clearer\n",
        "* B. check the source code in order to see of it’s correct\n",
        "C. execute the source code\n",
        "* D. translate the source code into machine code\n"
      ],
      "metadata": {
        "id": "7p_xhXL2-2ak"
      },
      "execution_count": null,
      "outputs": []
    },
    {
      "cell_type": "code",
      "source": [
        "#115\n",
        "\n",
        "class MyClass:\n",
        "  def __init__(self,size):\n",
        "    self.queue = [i for i in range(size)]\n",
        "  def get(self):\n",
        "    return self.queue\n",
        "  def get_last(self):\n",
        "    return self.queue[-1]\n",
        "  def add_new(self):\n",
        "    #insert code here\n",
        "\n",
        "Object = MyClass(2)\n",
        "Object.add_new()\n",
        "print(Object.get())\n",
        "\n",
        "\"\"\"\n",
        "A. self.queue.append(self.get_last() + 1)\n",
        "* B. self.queue.append(get_last() + 1)\n",
        "* C. self.queue.append(self.queue[-1] + 1)\n",
        "D. queue.append(self.get_last() + 1)\n",
        "\"\"\""
      ],
      "metadata": {
        "id": "_uVmeunj-2fi"
      },
      "execution_count": null,
      "outputs": []
    },
    {
      "cell_type": "code",
      "source": [],
      "metadata": {
        "id": "zin5mmSJ-215"
      },
      "execution_count": null,
      "outputs": []
    },
    {
      "cell_type": "code",
      "source": [],
      "metadata": {
        "id": "0ruDfCb0-27N"
      },
      "execution_count": null,
      "outputs": []
    },
    {
      "cell_type": "code",
      "source": [],
      "metadata": {
        "id": "QlOhFdgY-3AP"
      },
      "execution_count": null,
      "outputs": []
    },
    {
      "cell_type": "code",
      "source": [],
      "metadata": {
        "id": "kGQqxcnQ-__F"
      },
      "execution_count": null,
      "outputs": []
    }
  ]
}